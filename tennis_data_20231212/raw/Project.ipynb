{
 "cells": [
  {
   "cell_type": "code",
   "execution_count": 1,
   "metadata": {},
   "outputs": [],
   "source": [
    "import os\n",
    "import pandas as pd\n",
    "import pyarrow.parquet as pq\n",
    "import numpy as np\n",
    "from datetime import datetime\n",
    "import matplotlib.pyplot as plt"
   ]
  },
  {
   "cell_type": "code",
   "execution_count": 2,
   "metadata": {},
   "outputs": [],
   "source": [
    "def read_data(direct: str, file_name: str):\n",
    "    dfs = []\n",
    "    for file in os.listdir(direct):\n",
    "        if file.endswith('.parquet') and file.startswith(file_name):\n",
    "            dfs.append(pd.read_parquet(os.path.join(direct, file)))\n",
    "    return pd.concat(dfs, ignore_index=True)\n"
   ]
  },
  {
   "cell_type": "code",
   "execution_count": 3,
   "metadata": {},
   "outputs": [
    {
     "name": "stderr",
     "output_type": "stream",
     "text": [
      "C:\\Users\\Mhmd\\AppData\\Local\\Temp\\ipykernel_4444\\3654884657.py:6: FutureWarning: The behavior of DataFrame concatenation with empty or all-NA entries is deprecated. In a future version, this will no longer exclude empty or all-NA columns when determining the result dtypes. To retain the old behavior, exclude the relevant entries before the concat operation.\n",
      "  return pd.concat(dfs, ignore_index=True)\n",
      "C:\\Users\\Mhmd\\AppData\\Local\\Temp\\ipykernel_4444\\3654884657.py:6: FutureWarning: The behavior of DataFrame concatenation with empty or all-NA entries is deprecated. In a future version, this will no longer exclude empty or all-NA columns when determining the result dtypes. To retain the old behavior, exclude the relevant entries before the concat operation.\n",
      "  return pd.concat(dfs, ignore_index=True)\n"
     ]
    }
   ],
   "source": [
    "\n",
    "match_event = read_data('raw_match_parquet','event') \n",
    "match_away_score = read_data('raw_match_parquet','away_team_score')\n",
    "match_away = read_data('raw_match_parquet','away_team_1')\n",
    "match_home_score = read_data('raw_match_parquet','home_team_score')\n",
    "match_home = read_data('raw_match_parquet','home_team_1')\n",
    "match_round = read_data('raw_match_parquet','round')\n",
    "match_season = read_data('raw_match_parquet','season')\n",
    "match_time = read_data('raw_match_parquet','time')\n",
    "match_tournament = read_data('raw_match_parquet','tournament')\n",
    "match_venue = read_data('raw_match_parquet','venue')\n",
    "odds_info = read_data('raw_odds_parquet','odds')\n",
    "game_info = read_data('raw_point_by_point_parquet','pbp')\n",
    "period_info = read_data('raw_statistics_parquet', 'statistics')\n",
    "power_info = read_data('raw_tennis_power_parquet','power')\n",
    "match_votes = read_data('raw_votes_parquet','votes')"
   ]
  },
  {
   "cell_type": "markdown",
   "metadata": {},
   "source": [
    "### 1-How many tennis players are included in the dataset?\n"
   ]
  },
  {
   "cell_type": "code",
   "execution_count": 4,
   "metadata": {},
   "outputs": [
    {
     "data": {
      "text/plain": [
       "596"
      ]
     },
     "execution_count": 4,
     "metadata": {},
     "output_type": "execute_result"
    }
   ],
   "source": [
    "pd.concat([match_home, match_away]).name.nunique()"
   ]
  },
  {
   "cell_type": "markdown",
   "metadata": {},
   "source": [
    "There are 596 tennis players are  participated in these tournaments\n"
   ]
  },
  {
   "cell_type": "markdown",
   "metadata": {},
   "source": [
    "### 9-Which player has won the most tournaments in a single month?"
   ]
  },
  {
   "cell_type": "code",
   "execution_count": 6,
   "metadata": {},
   "outputs": [
    {
     "name": "stderr",
     "output_type": "stream",
     "text": [
      "C:\\Users\\Mhmd\\AppData\\Local\\Temp\\ipykernel_4444\\2032400785.py:7: FutureWarning: Setting an item of incompatible dtype is deprecated and will raise an error in a future version of pandas. Value '['heide' 'heide' 'shelbayh' 'draper' 'van' 'kudermetova' 'bublik'\n",
      " 'mededovic' 'rodionov' 'jarry' 'alcaraz' 'alcaraz' 'davidovich'\n",
      " 'kalinina' 'brady' 'sabalenka' 'paolini' 'wang' 'fruhvirtova' 'wang'\n",
      " 'zhu' 'siniakova' 'sonobe' 'biolay' 'sierra' 'grant' 'kessler' 'stearns'\n",
      " 'kubka' 'privara' 'berberovic' 'pawelski' 'aunion' 'manzanera' 'singh'\n",
      " 'maksymchuk' 'merida' 'pokorny' 'gulin' 'janicijevic' 'falcao' 'krutykh'\n",
      " 'thomson' 'weis' 'sonobe' 'hoang' 'debru' 'gobat' 'sabas' 'liutarevich'\n",
      " 'fery' 'zarazua' 'claverie' 'saraiva' 'kuzuhara' 'roveri' 'bicknell'\n",
      " 'ono' 'tosetto' 'burnett' 'holmgren' 'moller' 'perez' 'rivera' 'zhu'\n",
      " 'chidekh' 'lalami' 'hsu' 'zakharov' 'kachmazov' 'uchiyama' 'sun'\n",
      " 'zhukayev' 'haliak' 'kirkin' 'lock' 'atmane' 'sekulic' 'tung' 'hijikata'\n",
      " 'pampanin' 'svajda']' has dtype incompatible with float64, please explicitly cast to a compatible dtype first.\n",
      "  match_away_1.loc[match_away_1['winner_code'] == 1, 'winner'] = match_away_1.loc[match_away_1['winner_code'] == 1, 'match_slug'].str.split('-').str[0]\n"
     ]
    },
    {
     "data": {
      "text/plain": [
       "winner       month\n",
       "berberovic   10       1\n",
       "crawford     10       1\n",
       "draper       10       1\n",
       "gill         10       1\n",
       "gjorcheska   10       1\n",
       "glinka       10       1\n",
       "grant        10       1\n",
       "guillen      10       1\n",
       "heide        10       1\n",
       "hobgarski    10       1\n",
       "janicijevic  10       1\n",
       "kubka        10       1\n",
       "kudermetova  10       1\n",
       "ma           10       1\n",
       "martynov     10       1\n",
       "privara      10       1\n",
       "roca         10       1\n",
       "safwat       10       1\n",
       "sonobe       10       1\n",
       "tabur        10       1\n",
       "vacherot     10       1\n",
       "zarazua      10       1\n",
       "dtype: int64"
      ]
     },
     "execution_count": 6,
     "metadata": {},
     "output_type": "execute_result"
    }
   ],
   "source": [
    "match_away_1 = pd.merge(match_event, match_round, on='match_id')\n",
    "\n",
    "match_event['start_datetime'] = pd.to_datetime(match_event['start_datetime'], unit='s')\n",
    "match_event['month'] = match_event['start_datetime'].dt.month\n",
    "df_2 = pd.DataFrame(match_away_1['match_slug'],match_away_1['winner_code'])\n",
    "match_away_1['winner'] = np.nan\n",
    "match_away_1.loc[match_away_1['winner_code'] == 1, 'winner'] = match_away_1.loc[match_away_1['winner_code'] == 1, 'match_slug'].str.split('-').str[0]\n",
    "match_away_1.loc[match_away_1['winner_code'] == 2, 'winner'] = match_away_1.loc[match_away_1['winner_code'] == 2, 'match_slug'].str.split('-').str[1]\n",
    "match_away_1.drop(columns=['winner_code'], inplace=False)\n",
    "df_3 =match_away_1.loc[match_away_1['slug'] == 'final' ]\n",
    "df_3.groupby(['winner', 'month']).size()\n",
    " "
   ]
  },
  {
   "cell_type": "markdown",
   "metadata": {},
   "source": [
    "There are 22 tournament winners , it shows that none of the players defended of his trophy"
   ]
  },
  {
   "cell_type": "markdown",
   "metadata": {},
   "source": [
    "### 13-What is the distribution of left-handed versus right-handed players?"
   ]
  },
  {
   "cell_type": "code",
   "execution_count": 24,
   "metadata": {},
   "outputs": [
    {
     "name": "stdout",
     "output_type": "stream",
     "text": [
      "The number of right-handed players is:  244\n",
      "The number of left-handed players is:  32 \n"
     ]
    }
   ],
   "source": [
    "dataset = pd.concat([match_home, match_away]).drop_duplicates('player_id')\n",
    "\n",
    "right_handed = (dataset['plays']).str.contains('right').sum()\n",
    "left_handed = (dataset['plays']).str.contains('left').sum()\n",
    "print(f'The number of right-handed players is:  {right_handed}')\n",
    "print(f'The number of left-handed players is:  {left_handed} ')"
   ]
  },
  {
   "cell_type": "code",
   "execution_count": 25,
   "metadata": {},
   "outputs": [
    {
     "data": {
      "image/png": "[encoded data removed]",
      "text/plain": [
       "<Figure size 640x480 with 1 Axes>"
      ]
     },
     "metadata": {},
     "output_type": "display_data"
    },
    {
     "data": {
      "text/plain": [
       "<Figure size 800x600 with 0 Axes>"
      ]
     },
     "metadata": {},
     "output_type": "display_data"
    }
   ],
   "source": [
    "labels = ['Right-handed', 'Left-handed']\n",
    "counts = [right_handed, left_handed]\n",
    "\n",
    "plt.bar(labels, counts, color=['#7BD3EA', '#74E291'])\n",
    "plt.xlabel('Handedness',loc= \"left\", color = \"gray\",fontdict={\"weight\":\"bold\"})\n",
    "plt.ylabel('Count',loc= \"bottom\", color = \"gray\",fontdict={\"weight\":\"bold\"})\n",
    "plt.title(' R-handed vs L-handed',loc= \"left\",color = \"gray\",fontdict={\"weight\":\"bold\"})\n",
    "plt.gca().tick_params(axis='y', labelsize=7,color = \"gray\")\n",
    "plt.gca().tick_params(axis='x', labelsize=7,color = \"gray\")\n",
    "plt.gca().spines['top'].set_visible(False)\n",
    "plt.gca().spines['right'].set_visible(False)\n",
    "plt.figure(figsize=(8, 6))\n",
    "\n",
    "plt.show()"
   ]
  },
  {
   "cell_type": "markdown",
   "metadata": {},
   "source": [
    "There is 244 right-handed an 32 left-handed players in this data which represent that the R-handed 8 times more than the L-handed"
   ]
  },
  {
   "cell_type": "markdown",
   "metadata": {},
   "source": [
    "### 17-What is the average number of breaks of serve per match?\n"
   ]
  },
  {
   "cell_type": "code",
   "execution_count": 26,
   "metadata": {},
   "outputs": [
    {
     "data": {
      "text/plain": [
       "7.157303370786517"
      ]
     },
     "execution_count": 26,
     "metadata": {},
     "output_type": "execute_result"
    }
   ],
   "source": [
    "break_counts = power_info.groupby('match_id')['break_occurred'].sum().reset_index()\n",
    "\n",
    "avg_breaks = break_counts['break_occurred'].mean()\n",
    "avg_breaks"
   ]
  },
  {
   "cell_type": "markdown",
   "metadata": {},
   "source": [
    "at this competitions , players asked seven time for break of serve, averagely"
   ]
  },
  {
   "cell_type": "markdown",
   "metadata": {},
   "source": [
    "### 5-How many sets are typically played in a tennis match?"
   ]
  },
  {
   "cell_type": "code",
   "execution_count": 7,
   "metadata": {},
   "outputs": [
    {
     "name": "stdout",
     "output_type": "stream",
     "text": [
      "The typical number of sets played in a tennis match is: 2.181937172774869\n"
     ]
    }
   ],
   "source": [
    "merge = pd.concat([match_away_score,match_home_score]).drop_duplicates('match_id')\n",
    "match_away_score.dropna(subset=['period_1', 'period_2', 'period_3', 'period_4', 'period_5'])\n",
    "\n",
    "match_away_score['total_sets'] = match_away_score[['period_1', 'period_2', 'period_3', 'period_4', 'period_5']].count(axis=1)\n",
    "\n",
    "typical_sets = match_away_score['total_sets'].mean()\n",
    "\n",
    "print(f\"The typical number of sets played in a tennis match is: {typical_sets}\")\n"
   ]
  },
  {
   "cell_type": "markdown",
   "metadata": {},
   "source": [
    "The typical number of sets played in a tennis match is: 2\n"
   ]
  },
  {
   "cell_type": "markdown",
   "metadata": {},
   "source": [
    "OPTIONAL QUESTIONS"
   ]
  },
  {
   "cell_type": "markdown",
   "metadata": {},
   "source": [
    "What is the average height of players \n"
   ]
  },
  {
   "cell_type": "code",
   "execution_count": 31,
   "metadata": {},
   "outputs": [
    {
     "name": "stdout",
     "output_type": "stream",
     "text": [
      "Average height of players: 1.8293215339233038\n"
     ]
    }
   ],
   "source": [
    "data_1 =pd.concat([match_away, match_home]).drop_duplicates('player_id')\n",
    "average_height = data_1['height'].mean()\n",
    "print(\"Average height of players:\", average_height)\n"
   ]
  },
  {
   "cell_type": "markdown",
   "metadata": {},
   "source": [
    "Average height of players is 1.82 which represt that the tennis playres are tall!\n",
    "\n",
    "\n",
    "\n",
    "\n",
    "\n",
    "\n",
    "\n",
    "\n"
   ]
  },
  {
   "cell_type": "markdown",
   "metadata": {},
   "source": [
    "How many matches were played in each city"
   ]
  },
  {
   "cell_type": "code",
   "execution_count": 32,
   "metadata": {},
   "outputs": [
    {
     "name": "stdout",
     "output_type": "stream",
     "text": [
      "city\n",
      "Monastir                    79\n",
      "Mendoza                     69\n",
      "Sharm El Sheikh             68\n",
      "Cairns                      57\n",
      "Bad Waltersdorf             49\n",
      "Lisbon                      43\n",
      "Sibenik                     38\n",
      "Pazardzhik                  36\n",
      "Beijing                     36\n",
      "Santa Margherita Di Pula    34\n",
      "Reims                       33\n",
      "Shanghai                    24\n",
      "Zaragoza                    24\n",
      "Saint Eloi                  22\n",
      "Alicante                    21\n",
      "Baza                        18\n",
      "Mouilleron-Le-Captif        18\n",
      "Makinohara                  16\n",
      "Campinas                    15\n",
      "Tiburon                     13\n",
      "Doha                         8\n",
      "Astana                       7\n",
      "Lujan                        6\n",
      "Bogota                       3\n",
      "Templeton                    3\n",
      "Albuquerque                  3\n",
      "Hilton Head                  3\n",
      "Forbach                      3\n",
      "Orleans                      3\n",
      "Charleston                   3\n",
      "Santarem                     1\n",
      "Kursumlijska Banja           1\n",
      "Braga                        1\n",
      "Zlatibor                     1\n",
      "Sabadell                     1\n",
      "Nanao                        1\n",
      "Tokyo                        1\n",
      "N/A                          1\n",
      "Name: count, dtype: int64\n"
     ]
    }
   ],
   "source": [
    "matches_per_city = match_venue['city'].value_counts()\n",
    "print(matches_per_city)\n"
   ]
  },
  {
   "cell_type": "code",
   "execution_count": 33,
   "metadata": {},
   "outputs": [
    {
     "data": {
      "image/png": "[encoded data removed]",
      "text/plain": [
       "<Figure size 640x480 with 1 Axes>"
      ]
     },
     "metadata": {},
     "output_type": "display_data"
    },
    {
     "data": {
      "text/plain": [
       "<Figure size 800x600 with 0 Axes>"
      ]
     },
     "metadata": {},
     "output_type": "display_data"
    }
   ],
   "source": [
    "matches_per_city = match_venue['city'].value_counts()\n",
    "matches_per_city.plot(kind='barh', color='skyblue')\n",
    "plt.title('Matches',color = 'gray',loc=\"left\",fontdict={\"weight\":\"bold\"})\n",
    "plt.xlabel('Number of Matches',color = 'gray',loc = \"left\",fontdict={\"weight\":\"bold\"})\n",
    "plt.ylabel('City',color = 'gray',loc=\"bottom\",fontdict={\"weight\":\"bold\"})\n",
    "plt.gca().tick_params(axis='y', labelsize=7,color = \"gray\")\n",
    "plt.gca().tick_params(axis='x', labelsize=7,color = \"gray\")\n",
    "plt.gca().spines['top'].set_visible(False)\n",
    "plt.gca().spines['right'].set_visible(False)\n",
    "plt.figure(figsize=(8, 6))\n",
    "\n",
    "plt.show()"
   ]
  },
  {
   "cell_type": "markdown",
   "metadata": {},
   "source": [
    "Monastir city in tunisia with 79 matches and Mendoza in argentina with 69, have tho most hoset of competions"
   ]
  },
  {
   "cell_type": "markdown",
   "metadata": {},
   "source": [
    "What are the top 5 players with the highest current rank"
   ]
  },
  {
   "cell_type": "code",
   "execution_count": 72,
   "metadata": {},
   "outputs": [
    {
     "name": "stdout",
     "output_type": "stream",
     "text": [
      "            name current_rank\n",
      "48    Świątek I.            1\n",
      "35  Sabalenka A.            2\n",
      "20    Alcaraz C.            2\n",
      "45      Gauff C.            3\n",
      "18   Medvedev D.            3\n"
     ]
    }
   ],
   "source": [
    "away_home = pd.concat([match_away,match_home]).drop_duplicates('player_id')\n",
    "top_players = away_home[['name', 'current_rank']].sort_values('current_rank').head(5)\n",
    "print(top_players)\n"
   ]
  },
  {
   "cell_type": "markdown",
   "metadata": {},
   "source": [
    "Świątek is the best player in this tournaments"
   ]
  },
  {
   "cell_type": "markdown",
   "metadata": {},
   "source": [
    "3. Which player has the highest number of wins?\n"
   ]
  },
  {
   "cell_type": "code",
   "execution_count": 89,
   "metadata": {},
   "outputs": [
    {
     "data": {
      "text/html": [
       "<div>\n",
       "<style scoped>\n",
       "    .dataframe tbody tr th:only-of-type {\n",
       "        vertical-align: middle;\n",
       "    }\n",
       "\n",
       "    .dataframe tbody tr th {\n",
       "        vertical-align: top;\n",
       "    }\n",
       "\n",
       "    .dataframe thead th {\n",
       "        text-align: right;\n",
       "    }\n",
       "</style>\n",
       "<table border=\"1\" class=\"dataframe\">\n",
       "  <thead>\n",
       "    <tr style=\"text-align: right;\">\n",
       "      <th></th>\n",
       "      <th>name</th>\n",
       "      <th>wins</th>\n",
       "    </tr>\n",
       "  </thead>\n",
       "  <tbody>\n",
       "    <tr>\n",
       "      <th>0</th>\n",
       "      <td>Milushev P.</td>\n",
       "      <td>3</td>\n",
       "    </tr>\n",
       "    <tr>\n",
       "      <th>1</th>\n",
       "      <td>Kalina V.</td>\n",
       "      <td>3</td>\n",
       "    </tr>\n",
       "    <tr>\n",
       "      <th>2</th>\n",
       "      <td>Panaras A.</td>\n",
       "      <td>3</td>\n",
       "    </tr>\n",
       "    <tr>\n",
       "      <th>3</th>\n",
       "      <td>Tirante T.</td>\n",
       "      <td>2</td>\n",
       "    </tr>\n",
       "    <tr>\n",
       "      <th>4</th>\n",
       "      <td>Mouilleron Salvo M.</td>\n",
       "      <td>2</td>\n",
       "    </tr>\n",
       "  </tbody>\n",
       "</table>\n",
       "</div>"
      ],
      "text/plain": [
       "                  name  wins\n",
       "0          Milushev P.     3\n",
       "1            Kalina V.     3\n",
       "2           Panaras A.     3\n",
       "3           Tirante T.     2\n",
       "4  Mouilleron Salvo M.     2"
      ]
     },
     "execution_count": 89,
     "metadata": {},
     "output_type": "execute_result"
    }
   ],
   "source": [
    "df_6 = match_event[['match_id','winner_code']].loc[match_event['winner_code'] == 1]\n",
    "df_7 = match_event[['match_id','winner_code']].loc[match_event['winner_code'] == 2]\n",
    "home = pd.merge(df_6, match_home).drop_duplicates('match_id')\n",
    "away = pd.merge(df_7, match_away).drop_duplicates('match_id')\n",
    "df_8 = pd.concat([home,away])\n",
    "df_8['name'].value_counts().reset_index(name = 'wins').head(5)"
   ]
  },
  {
   "cell_type": "markdown",
   "metadata": {},
   "source": [
    "3 players have most wins with 3 wins in matches"
   ]
  }
 ],
 "metadata": {
  "kernelspec": {
   "display_name": "Python 3",
   "language": "python",
   "name": "python3"
  },
  "language_info": {
   "codemirror_mode": {
    "name": "ipython",
    "version": 3
   },
   "file_extension": ".py",
   "mimetype": "text/x-python",
   "name": "python",
   "nbconvert_exporter": "python",
   "pygments_lexer": "ipython3",
   "version": "3.10.9"
  }
 },
 "nbformat": 4,
 "nbformat_minor": 2
}
