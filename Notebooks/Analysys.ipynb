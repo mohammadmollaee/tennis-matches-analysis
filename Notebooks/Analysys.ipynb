{
 "cells": [
  {
   "cell_type": "code",
   "execution_count": 1,
   "metadata": {},
   "outputs": [],
   "source": [
    "import pandas as pd\n",
    "import numpy as np \n",
    "import matplotlib.pyplot as plt\n",
    "from pathlib import Path\n",
    "from datetime import datetime\n"
   ]
  },
  {
   "cell_type": "code",
   "execution_count": 2,
   "metadata": {},
   "outputs": [],
   "source": [
    "def load_data(folder_path: str, file_name:str) -> pd.DataFrame:\n",
    "    \"\"\"Load parquet files and return theirs as a pandas dataframe.\n",
    "\n",
    "    Args:\n",
    "        folder_path (str): The address of our main directory, where our files are in it.\n",
    "        file_name (str): The files name pattern.\n",
    "\n",
    "    Returns:\n",
    "        pd.DataFrame: Dataframe of our parquet files.\n",
    "    \"\"\"\n",
    "    path = Path(folder_path)\n",
    "    files = [str(file) for file in list(path.glob(file_name))]\n",
    "    df = pd.concat([pd.read_parquet(file) for file in files], ignore_index=True)\n",
    "    return df\n"
   ]
  },
  {
   "cell_type": "markdown",
   "metadata": {},
   "source": [
    "# <font color='#D2B4DE'> Questions:</font>"
   ]
  },
  {
   "cell_type": "markdown",
   "metadata": {},
   "source": [
    "---\n",
    "### <font color='#D2B4DE'> Q1. How many tennis players are included in the dataset?</font>"
   ]
  },
  {
   "cell_type": "markdown",
   "metadata": {},
   "source": [
    "- **Load needed data**"
   ]
  },
  {
   "cell_type": "code",
   "execution_count": 3,
   "metadata": {},
   "outputs": [
    {
     "name": "stderr",
     "output_type": "stream",
     "text": [
      "C:\\Users\\AmirMohammad\\AppData\\Local\\Temp\\ipykernel_5304\\838114465.py:13: FutureWarning: The behavior of DataFrame concatenation with empty or all-NA entries is deprecated. In a future version, this will no longer exclude empty or all-NA columns when determining the result dtypes. To retain the old behavior, exclude the relevant entries before the concat operation.\n",
      "  df = pd.concat([pd.read_parquet(file) for file in files], ignore_index=True)\n",
      "C:\\Users\\AmirMohammad\\AppData\\Local\\Temp\\ipykernel_5304\\838114465.py:13: FutureWarning: The behavior of DataFrame concatenation with empty or all-NA entries is deprecated. In a future version, this will no longer exclude empty or all-NA columns when determining the result dtypes. To retain the old behavior, exclude the relevant entries before the concat operation.\n",
      "  df = pd.concat([pd.read_parquet(file) for file in files], ignore_index=True)\n"
     ]
    }
   ],
   "source": [
    "folder_path = 'data/raw_match_parquet/'\n",
    "\n",
    "match_away_team_df = load_data(folder_path, 'away_team_11*.parquet')\n",
    "match_home_team_df = load_data(folder_path, 'home_team_11*.parquet')"
   ]
  },
  {
   "cell_type": "code",
   "execution_count": 4,
   "metadata": {},
   "outputs": [
    {
     "data": {
      "text/plain": [
       "596"
      ]
     },
     "execution_count": 4,
     "metadata": {},
     "output_type": "execute_result"
    }
   ],
   "source": [
    "pd.concat([match_home_team_df, match_away_team_df]).name.nunique()"
   ]
  },
  {
   "cell_type": "markdown",
   "metadata": {},
   "source": [
    "- **Our analysis**"
   ]
  },
  {
   "cell_type": "markdown",
   "metadata": {},
   "source": [
    "596 tennis players are participated in these matches!"
   ]
  },
  {
   "cell_type": "markdown",
   "metadata": {},
   "source": [
    "---\n",
    "### <font color='#D2B4DE'> Q2. How many years have passed since each player became a professional?</font>"
   ]
  },
  {
   "cell_type": "markdown",
   "metadata": {},
   "source": [
    "- **Load needed data**"
   ]
  },
  {
   "cell_type": "code",
   "execution_count": 5,
   "metadata": {},
   "outputs": [
    {
     "name": "stderr",
     "output_type": "stream",
     "text": [
      "C:\\Users\\AmirMohammad\\AppData\\Local\\Temp\\ipykernel_5304\\838114465.py:13: FutureWarning: The behavior of DataFrame concatenation with empty or all-NA entries is deprecated. In a future version, this will no longer exclude empty or all-NA columns when determining the result dtypes. To retain the old behavior, exclude the relevant entries before the concat operation.\n",
      "  df = pd.concat([pd.read_parquet(file) for file in files], ignore_index=True)\n",
      "C:\\Users\\AmirMohammad\\AppData\\Local\\Temp\\ipykernel_5304\\838114465.py:13: FutureWarning: The behavior of DataFrame concatenation with empty or all-NA entries is deprecated. In a future version, this will no longer exclude empty or all-NA columns when determining the result dtypes. To retain the old behavior, exclude the relevant entries before the concat operation.\n",
      "  df = pd.concat([pd.read_parquet(file) for file in files], ignore_index=True)\n"
     ]
    }
   ],
   "source": [
    "folder_path = 'data/raw_match_parquet/'\n",
    "\n",
    "match_away_team_df = load_data(folder_path, 'away_team_11*.parquet')\n",
    "match_home_team_df = load_data(folder_path, 'home_team_11*.parquet')"
   ]
  },
  {
   "cell_type": "code",
   "execution_count": 6,
   "metadata": {},
   "outputs": [
    {
     "name": "stderr",
     "output_type": "stream",
     "text": [
      "C:\\Users\\AmirMohammad\\AppData\\Local\\Temp\\ipykernel_5304\\1077926465.py:7: SettingWithCopyWarning: \n",
      "A value is trying to be set on a copy of a slice from a DataFrame.\n",
      "Try using .loc[row_indexer,col_indexer] = value instead\n",
      "\n",
      "See the caveats in the documentation: https://pandas.pydata.org/pandas-docs/stable/user_guide/indexing.html#returning-a-view-versus-a-copy\n",
      "  home_away_unique['turned_pro'] = home_away_unique['turned_pro'].astype(dtype='float64')\n"
     ]
    },
    {
     "data": {
      "text/html": [
       "<div>\n",
       "<style scoped>\n",
       "    .dataframe tbody tr th:only-of-type {\n",
       "        vertical-align: middle;\n",
       "    }\n",
       "\n",
       "    .dataframe tbody tr th {\n",
       "        vertical-align: top;\n",
       "    }\n",
       "\n",
       "    .dataframe thead th {\n",
       "        text-align: right;\n",
       "    }\n",
       "</style>\n",
       "<table border=\"1\" class=\"dataframe\">\n",
       "  <thead>\n",
       "    <tr style=\"text-align: right;\">\n",
       "      <th></th>\n",
       "      <th>player_id</th>\n",
       "      <th>name</th>\n",
       "      <th>turned_pro</th>\n",
       "      <th>duration_of_being_pro</th>\n",
       "    </tr>\n",
       "  </thead>\n",
       "  <tbody>\n",
       "    <tr>\n",
       "      <th>0</th>\n",
       "      <td>132834</td>\n",
       "      <td>Barrios Vera T.</td>\n",
       "      <td>2014.0</td>\n",
       "      <td>10.0</td>\n",
       "    </tr>\n",
       "    <tr>\n",
       "      <th>1</th>\n",
       "      <td>221515</td>\n",
       "      <td>Tirante T.</td>\n",
       "      <td>NaN</td>\n",
       "      <td>NaN</td>\n",
       "    </tr>\n",
       "    <tr>\n",
       "      <th>2</th>\n",
       "      <td>302582</td>\n",
       "      <td>Heide G.</td>\n",
       "      <td>NaN</td>\n",
       "      <td>NaN</td>\n",
       "    </tr>\n",
       "    <tr>\n",
       "      <th>3</th>\n",
       "      <td>207081</td>\n",
       "      <td>Ajduković D.</td>\n",
       "      <td>NaN</td>\n",
       "      <td>NaN</td>\n",
       "    </tr>\n",
       "    <tr>\n",
       "      <th>4</th>\n",
       "      <td>80491</td>\n",
       "      <td>Escobedo E.</td>\n",
       "      <td>2014.0</td>\n",
       "      <td>10.0</td>\n",
       "    </tr>\n",
       "    <tr>\n",
       "      <th>...</th>\n",
       "      <td>...</td>\n",
       "      <td>...</td>\n",
       "      <td>...</td>\n",
       "      <td>...</td>\n",
       "    </tr>\n",
       "    <tr>\n",
       "      <th>791</th>\n",
       "      <td>255993</td>\n",
       "      <td>Trotter J.</td>\n",
       "      <td>NaN</td>\n",
       "      <td>NaN</td>\n",
       "    </tr>\n",
       "    <tr>\n",
       "      <th>792</th>\n",
       "      <td>74875</td>\n",
       "      <td>Wagner S.</td>\n",
       "      <td>NaN</td>\n",
       "      <td>NaN</td>\n",
       "    </tr>\n",
       "    <tr>\n",
       "      <th>795</th>\n",
       "      <td>152106</td>\n",
       "      <td>Zaar L.</td>\n",
       "      <td>NaN</td>\n",
       "      <td>NaN</td>\n",
       "    </tr>\n",
       "    <tr>\n",
       "      <th>797</th>\n",
       "      <td>276713</td>\n",
       "      <td>Lopatetska D.</td>\n",
       "      <td>NaN</td>\n",
       "      <td>NaN</td>\n",
       "    </tr>\n",
       "    <tr>\n",
       "      <th>818</th>\n",
       "      <td>108701</td>\n",
       "      <td>Noel M.</td>\n",
       "      <td>NaN</td>\n",
       "      <td>NaN</td>\n",
       "    </tr>\n",
       "  </tbody>\n",
       "</table>\n",
       "<p>596 rows × 4 columns</p>\n",
       "</div>"
      ],
      "text/plain": [
       "     player_id             name  turned_pro  duration_of_being_pro\n",
       "0       132834  Barrios Vera T.      2014.0                   10.0\n",
       "1       221515       Tirante T.         NaN                    NaN\n",
       "2       302582         Heide G.         NaN                    NaN\n",
       "3       207081     Ajduković D.         NaN                    NaN\n",
       "4        80491      Escobedo E.      2014.0                   10.0\n",
       "..         ...              ...         ...                    ...\n",
       "791     255993       Trotter J.         NaN                    NaN\n",
       "792      74875        Wagner S.         NaN                    NaN\n",
       "795     152106          Zaar L.         NaN                    NaN\n",
       "797     276713    Lopatetska D.         NaN                    NaN\n",
       "818     108701          Noel M.         NaN                    NaN\n",
       "\n",
       "[596 rows x 4 columns]"
      ]
     },
     "execution_count": 6,
     "metadata": {},
     "output_type": "execute_result"
    }
   ],
   "source": [
    "home_players = match_home_team_df[['player_id','name', 'turned_pro']]\n",
    "away_players = match_away_team_df[['player_id','name', 'turned_pro']]\n",
    "\n",
    "home_away = pd.concat([home_players, away_players], ignore_index=True)\n",
    "\n",
    "home_away_unique = home_away.drop_duplicates()\n",
    "home_away_unique['turned_pro'] = home_away_unique['turned_pro'].astype(dtype='float64')\n",
    "\n",
    "current_year = pd.Timestamp.now().year\n",
    "\n",
    "duration = current_year - home_away_unique['turned_pro']\n",
    "home_away_unique.assign(duration_of_being_pro=duration)"
   ]
  },
  {
   "cell_type": "code",
   "execution_count": 7,
   "metadata": {},
   "outputs": [
    {
     "name": "stdout",
     "output_type": "stream",
     "text": [
      "<class 'pandas.core.frame.DataFrame'>\n",
      "Index: 596 entries, 0 to 818\n",
      "Data columns (total 3 columns):\n",
      " #   Column      Non-Null Count  Dtype  \n",
      "---  ------      --------------  -----  \n",
      " 0   player_id   596 non-null    int64  \n",
      " 1   name        596 non-null    object \n",
      " 2   turned_pro  106 non-null    float64\n",
      "dtypes: float64(1), int64(1), object(1)\n",
      "memory usage: 18.6+ KB\n"
     ]
    }
   ],
   "source": [
    "home_away_unique.info()"
   ]
  },
  {
   "cell_type": "code",
   "execution_count": 8,
   "metadata": {},
   "outputs": [
    {
     "data": {
      "text/plain": [
       "5.0"
      ]
     },
     "execution_count": 8,
     "metadata": {},
     "output_type": "execute_result"
    }
   ],
   "source": [
    "min(duration)"
   ]
  },
  {
   "cell_type": "code",
   "execution_count": 9,
   "metadata": {},
   "outputs": [
    {
     "name": "stdout",
     "output_type": "stream",
     "text": [
      "     player_id                  name  turned_pro\n",
      "238     107351           Cozbinov A.      2019.0\n",
      "456     261015            Musetti L.      2019.0\n",
      "461     157456  Davidovich Fokina A.      2019.0\n"
     ]
    }
   ],
   "source": [
    "print(home_away_unique[home_away_unique['turned_pro']==2019])"
   ]
  },
  {
   "cell_type": "code",
   "execution_count": 10,
   "metadata": {},
   "outputs": [
    {
     "data": {
      "text/plain": [
       "24.0"
      ]
     },
     "execution_count": 10,
     "metadata": {},
     "output_type": "execute_result"
    }
   ],
   "source": [
    "max(duration)"
   ]
  },
  {
   "cell_type": "code",
   "execution_count": 11,
   "metadata": {},
   "outputs": [
    {
     "name": "stdout",
     "output_type": "stream",
     "text": [
      "     player_id          name  turned_pro\n",
      "478      18298  Zvonareva V.      2000.0\n"
     ]
    }
   ],
   "source": [
    "print(home_away_unique[home_away_unique['turned_pro']==2000])"
   ]
  },
  {
   "cell_type": "markdown",
   "metadata": {},
   "source": [
    "- **Our analysis**"
   ]
  },
  {
   "cell_type": "markdown",
   "metadata": {},
   "source": [
    "<font color='red'> First approach: </font>Out of our 596 tennis players, only 106 players, that is about 17%, are known as professional athletes, where *Zvonareva*, with 24 years of experience, is the oldest active pro player, and *Cozbinov, Musetti and Davidovich*, with 5 years of experience, are the newest players who were added to the list of professionals."
   ]
  },
  {
   "cell_type": "markdown",
   "metadata": {},
   "source": [
    "<font color='red'> Second approach: </font>In the first approach, we thought that only 106 players have reached the professional stage, but in this approach, we think that the input data is incomplete and null, and because the volume of this data is large, that is why it cannot be analyzed."
   ]
  },
  {
   "cell_type": "markdown",
   "metadata": {},
   "source": [
    "---\n",
    "### <font color='#D2B4DE'> Q3. Which player has the highest number of wins?</font>"
   ]
  },
  {
   "cell_type": "markdown",
   "metadata": {},
   "source": [
    "- **Load needed data**"
   ]
  },
  {
   "cell_type": "code",
   "execution_count": 12,
   "metadata": {},
   "outputs": [
    {
     "name": "stderr",
     "output_type": "stream",
     "text": [
      "C:\\Users\\AmirMohammad\\AppData\\Local\\Temp\\ipykernel_5304\\838114465.py:13: FutureWarning: The behavior of DataFrame concatenation with empty or all-NA entries is deprecated. In a future version, this will no longer exclude empty or all-NA columns when determining the result dtypes. To retain the old behavior, exclude the relevant entries before the concat operation.\n",
      "  df = pd.concat([pd.read_parquet(file) for file in files], ignore_index=True)\n",
      "C:\\Users\\AmirMohammad\\AppData\\Local\\Temp\\ipykernel_5304\\838114465.py:13: FutureWarning: The behavior of DataFrame concatenation with empty or all-NA entries is deprecated. In a future version, this will no longer exclude empty or all-NA columns when determining the result dtypes. To retain the old behavior, exclude the relevant entries before the concat operation.\n",
      "  df = pd.concat([pd.read_parquet(file) for file in files], ignore_index=True)\n"
     ]
    }
   ],
   "source": [
    "folder_path = 'data/raw_match_parquet/'\n",
    "\n",
    "event_df = load_data(folder_path, 'event_*.parquet')\n",
    "match_away_team_df = load_data(folder_path, 'away_team_11*.parquet')\n",
    "match_home_team_df = load_data(folder_path, 'home_team_11*.parquet')"
   ]
  },
  {
   "cell_type": "code",
   "execution_count": 13,
   "metadata": {},
   "outputs": [
    {
     "data": {
      "text/html": [
       "<div>\n",
       "<style scoped>\n",
       "    .dataframe tbody tr th:only-of-type {\n",
       "        vertical-align: middle;\n",
       "    }\n",
       "\n",
       "    .dataframe tbody tr th {\n",
       "        vertical-align: top;\n",
       "    }\n",
       "\n",
       "    .dataframe thead th {\n",
       "        text-align: right;\n",
       "    }\n",
       "</style>\n",
       "<table border=\"1\" class=\"dataframe\">\n",
       "  <thead>\n",
       "    <tr style=\"text-align: right;\">\n",
       "      <th></th>\n",
       "      <th>name</th>\n",
       "      <th>wins</th>\n",
       "    </tr>\n",
       "  </thead>\n",
       "  <tbody>\n",
       "    <tr>\n",
       "      <th>0</th>\n",
       "      <td>Milushev P.</td>\n",
       "      <td>3</td>\n",
       "    </tr>\n",
       "    <tr>\n",
       "      <th>1</th>\n",
       "      <td>Kalina V.</td>\n",
       "      <td>3</td>\n",
       "    </tr>\n",
       "    <tr>\n",
       "      <th>2</th>\n",
       "      <td>Panaras A.</td>\n",
       "      <td>3</td>\n",
       "    </tr>\n",
       "    <tr>\n",
       "      <th>3</th>\n",
       "      <td>Tirante T.</td>\n",
       "      <td>2</td>\n",
       "    </tr>\n",
       "    <tr>\n",
       "      <th>4</th>\n",
       "      <td>Mouilleron Salvo M.</td>\n",
       "      <td>2</td>\n",
       "    </tr>\n",
       "  </tbody>\n",
       "</table>\n",
       "</div>"
      ],
      "text/plain": [
       "                  name  wins\n",
       "0          Milushev P.     3\n",
       "1            Kalina V.     3\n",
       "2           Panaras A.     3\n",
       "3           Tirante T.     2\n",
       "4  Mouilleron Salvo M.     2"
      ]
     },
     "execution_count": 13,
     "metadata": {},
     "output_type": "execute_result"
    }
   ],
   "source": [
    "df_6 = event_df[['match_id','winner_code']].loc[event_df['winner_code'] == 1]\n",
    "df_7 = event_df[['match_id','winner_code']].loc[event_df['winner_code'] == 2]\n",
    "home = pd.merge(df_6, match_home_team_df).drop_duplicates('match_id')\n",
    "away = pd.merge(df_7, match_away_team_df).drop_duplicates('match_id')\n",
    "df_8 = pd.concat([home,away])\n",
    "df_8['name'].value_counts().reset_index(name = 'wins').head(5)"
   ]
  },
  {
   "cell_type": "markdown",
   "metadata": {},
   "source": [
    "- **Our analysis**"
   ]
  },
  {
   "cell_type": "markdown",
   "metadata": {},
   "source": [
    "Miloshev, Kalina and Panaras have the most wins together with 3 wins each!"
   ]
  },
  {
   "cell_type": "markdown",
   "metadata": {},
   "source": [
    "---\n",
    "### <font color='#D2B4DE'> Q4. What is the longest match recorded in terms of duration?</font>"
   ]
  },
  {
   "cell_type": "markdown",
   "metadata": {},
   "source": [
    "- **Load needed data**"
   ]
  },
  {
   "cell_type": "code",
   "execution_count": 14,
   "metadata": {},
   "outputs": [],
   "source": [
    "folder_path = 'data/raw_match_parquet/'\n",
    "\n",
    "matches_time = load_data(folder_path, 'time_*.parquet').reset_index()"
   ]
  },
  {
   "cell_type": "code",
   "execution_count": 15,
   "metadata": {},
   "outputs": [],
   "source": [
    "matches_periods = ['period_1', 'period_2', 'period_3', 'period_4', 'period_5']\n",
    "for period in matches_periods :\n",
    "    if not 'None' :\n",
    "        matches_time[period] = matches_time[period].astype(int)"
   ]
  },
  {
   "cell_type": "code",
   "execution_count": 16,
   "metadata": {},
   "outputs": [
    {
     "name": "stderr",
     "output_type": "stream",
     "text": [
      "C:\\Users\\AmirMohammad\\AppData\\Local\\Temp\\ipykernel_5304\\3196397762.py:1: FutureWarning: Downcasting object dtype arrays on .fillna, .ffill, .bfill is deprecated and will change in a future version. Call result.infer_objects(copy=False) instead. To opt-in to the future behavior, set `pd.set_option('future.no_silent_downcasting', True)`\n",
      "  matches_time.fillna(0, inplace=True)\n"
     ]
    }
   ],
   "source": [
    "matches_time.fillna(0, inplace=True)"
   ]
  },
  {
   "cell_type": "code",
   "execution_count": 17,
   "metadata": {},
   "outputs": [
    {
     "data": {
      "text/plain": [
       "213.91666666666669"
      ]
     },
     "execution_count": 17,
     "metadata": {},
     "output_type": "execute_result"
    }
   ],
   "source": [
    "matches_periods = ['period_1', 'period_2', 'period_3', 'period_4', 'period_5']\n",
    "for period in matches_periods:\n",
    "    matches_time[period] = matches_time[period]/60\n",
    "matches_time['match_duration'] = matches_time['period_1'] + matches_time['period_2'] + matches_time['period_3'] + matches_time['period_4'] + matches_time['period_5']\n",
    "matches_time['match_duration'].max()"
   ]
  },
  {
   "cell_type": "markdown",
   "metadata": {},
   "source": [
    "- **Our analysis**"
   ]
  },
  {
   "cell_type": "markdown",
   "metadata": {},
   "source": [
    "The longest match duration in this tennis tournament is approximately 213 minutes or 3 hours and 33 minutes. About 2.5 times a football match!"
   ]
  },
  {
   "cell_type": "markdown",
   "metadata": {},
   "source": [
    "---\n",
    "### <font color='#D2B4DE'> Q5. How many sets are typically played in a tennis match?</font>"
   ]
  },
  {
   "cell_type": "markdown",
   "metadata": {},
   "source": [
    "- **Load needed data**"
   ]
  },
  {
   "cell_type": "code",
   "execution_count": 18,
   "metadata": {},
   "outputs": [],
   "source": [
    "folder_path = 'data/raw_match_parquet/'\n",
    "\n",
    "match_away_team_score_df = load_data(folder_path, 'away_team_score*.parquet')\n",
    "match_home_team_score_df = load_data(folder_path, 'home_team_score*.parquet')"
   ]
  },
  {
   "cell_type": "code",
   "execution_count": 19,
   "metadata": {},
   "outputs": [
    {
     "name": "stdout",
     "output_type": "stream",
     "text": [
      "The typical number of sets played in a tennis match is: 2.181937172774869\n"
     ]
    }
   ],
   "source": [
    "away_home_score = pd.concat([match_away_team_score_df,match_home_team_score_df]).drop_duplicates('match_id')\n",
    "away_home_score.dropna(subset=['period_1', 'period_2', 'period_3', 'period_4', 'period_5'], how='all')\n",
    "\n",
    "away_home_score['total_sets'] = away_home_score[['period_1', 'period_2', 'period_3', 'period_4', 'period_5']].count(axis=1)\n",
    "\n",
    "typical_sets = away_home_score['total_sets'].mean()\n",
    "\n",
    "print(f\"The typical number of sets played in a tennis match is: {typical_sets}\")\n"
   ]
  },
  {
   "cell_type": "markdown",
   "metadata": {},
   "source": [
    "- **Our analysis**"
   ]
  },
  {
   "cell_type": "markdown",
   "metadata": {},
   "source": [
    "Tennis matches usually last about 2 sets!"
   ]
  },
  {
   "cell_type": "markdown",
   "metadata": {},
   "source": [
    "---\n",
    "### <font color='#D2B4DE'> Q6. Which country has produced the most successful tennis players?</font>"
   ]
  },
  {
   "cell_type": "markdown",
   "metadata": {},
   "source": [
    "- **Load needed data**"
   ]
  },
  {
   "cell_type": "code",
   "execution_count": 20,
   "metadata": {},
   "outputs": [
    {
     "name": "stderr",
     "output_type": "stream",
     "text": [
      "C:\\Users\\AmirMohammad\\AppData\\Local\\Temp\\ipykernel_5304\\838114465.py:13: FutureWarning: The behavior of DataFrame concatenation with empty or all-NA entries is deprecated. In a future version, this will no longer exclude empty or all-NA columns when determining the result dtypes. To retain the old behavior, exclude the relevant entries before the concat operation.\n",
      "  df = pd.concat([pd.read_parquet(file) for file in files], ignore_index=True)\n",
      "C:\\Users\\AmirMohammad\\AppData\\Local\\Temp\\ipykernel_5304\\838114465.py:13: FutureWarning: The behavior of DataFrame concatenation with empty or all-NA entries is deprecated. In a future version, this will no longer exclude empty or all-NA columns when determining the result dtypes. To retain the old behavior, exclude the relevant entries before the concat operation.\n",
      "  df = pd.concat([pd.read_parquet(file) for file in files], ignore_index=True)\n"
     ]
    }
   ],
   "source": [
    "folder_path = 'data/raw_match_parquet/'\n",
    "\n",
    "match_away_team_df = load_data(folder_path, 'away_team_11*.parquet')\n",
    "match_home_team_df = load_data(folder_path, 'home_team_11*.parquet')"
   ]
  },
  {
   "cell_type": "code",
   "execution_count": 21,
   "metadata": {},
   "outputs": [
    {
     "data": {
      "text/plain": [
       "country\n",
       "Russia            71507160\n",
       "Czech Republic    70563912\n",
       "France            50421056\n",
       "Belarus           49685953\n",
       "USA               44516869\n",
       "                    ...   \n",
       "Luxembourg            9577\n",
       "Uzbekistan            8408\n",
       "Nigeria               7451\n",
       "Uruguay               7227\n",
       "Ireland               4218\n",
       "Name: total_prize, Length: 70, dtype: object"
      ]
     },
     "execution_count": 21,
     "metadata": {},
     "output_type": "execute_result"
    }
   ],
   "source": [
    "players = pd.concat([match_home_team_df, match_away_team_df], ignore_index=True)\n",
    "\n",
    "total_prize_by_country = players[['country', 'total_prize']]\n",
    "total_prize_by_country_unique = total_prize_by_country.drop_duplicates()\n",
    "\n",
    "total_prize_by_country_unique_sum = total_prize_by_country_unique.groupby('country')['total_prize'].agg('sum')\n",
    "total_prize_by_country_unique_sum.sort_values(ascending=False)"
   ]
  },
  {
   "cell_type": "markdown",
   "metadata": {},
   "source": [
    "- **Our analysis**"
   ]
  },
  {
   "cell_type": "markdown",
   "metadata": {},
   "source": [
    "Most successful tennis players are from european countries and at the top of them are Russia, Czech Republic, France and Belarus. After that is United State of America from north america. \n",
    "The total amount of prizes received by the players of each country, in my opinion, would give a better view to understand which country has produced the most successful tennis players in world. Because we know that being in any rank in any tournament (usually top 4) includes prizes."
   ]
  },
  {
   "cell_type": "markdown",
   "metadata": {},
   "source": [
    "---\n",
    "### <font color='#D2B4DE'> Q7. What is the average number of aces per match? </font>"
   ]
  },
  {
   "cell_type": "markdown",
   "metadata": {},
   "source": [
    "**Description:** In tennis, an ace is a legal serve that is not touched by the receiver, winning the point for the server."
   ]
  },
  {
   "cell_type": "markdown",
   "metadata": {},
   "source": [
    "- **Load needed data**"
   ]
  },
  {
   "cell_type": "code",
   "execution_count": 22,
   "metadata": {},
   "outputs": [],
   "source": [
    "folder_path = 'data/raw_statistics_parquet/'\n",
    "\n",
    "period_df = load_data(folder_path, 'statistics_*.parquet')"
   ]
  },
  {
   "cell_type": "code",
   "execution_count": 23,
   "metadata": {},
   "outputs": [
    {
     "data": {
      "text/plain": [
       "4.009569377990431"
      ]
     },
     "execution_count": 23,
     "metadata": {},
     "output_type": "execute_result"
    }
   ],
   "source": [
    "count_of_aces_per_match = period_df[(period_df['statistic_name'] == 'aces') & (period_df['period'] == 'ALL')]\n",
    "(count_of_aces_per_match['home_value'] + count_of_aces_per_match['away_value']).sum() / count_of_aces_per_match['match_id'].nunique()"
   ]
  },
  {
   "cell_type": "markdown",
   "metadata": {},
   "source": [
    "- **Our analysis**"
   ]
  },
  {
   "cell_type": "markdown",
   "metadata": {},
   "source": [
    "Usually 4 aces occur in each match!"
   ]
  },
  {
   "cell_type": "markdown",
   "metadata": {},
   "source": [
    "---\n",
    "### <font color='#D2B4DE'>Q8. Is there a difference in the number of double faults based on gender? </font>"
   ]
  },
  {
   "cell_type": "markdown",
   "metadata": {},
   "source": [
    "**Description:** Double faults is losting the two first serves."
   ]
  },
  {
   "cell_type": "markdown",
   "metadata": {},
   "source": [
    "- **Load needed data**"
   ]
  },
  {
   "cell_type": "code",
   "execution_count": 24,
   "metadata": {},
   "outputs": [
    {
     "name": "stderr",
     "output_type": "stream",
     "text": [
      "C:\\Users\\AmirMohammad\\AppData\\Local\\Temp\\ipykernel_5304\\838114465.py:13: FutureWarning: The behavior of DataFrame concatenation with empty or all-NA entries is deprecated. In a future version, this will no longer exclude empty or all-NA columns when determining the result dtypes. To retain the old behavior, exclude the relevant entries before the concat operation.\n",
      "  df = pd.concat([pd.read_parquet(file) for file in files], ignore_index=True)\n"
     ]
    }
   ],
   "source": [
    "folder_path = 'data/raw_match_parquet/'\n",
    "\n",
    "match_home_team_df = load_data(folder_path, 'home_team_11*.parquet')\n",
    "event_df = load_data(folder_path, 'event_*.parquet')"
   ]
  },
  {
   "cell_type": "code",
   "execution_count": 25,
   "metadata": {},
   "outputs": [
    {
     "name": "stdout",
     "output_type": "stream",
     "text": [
      "  gender  first_to_serve\n",
      "0      F              47\n",
      "1      M              43\n"
     ]
    }
   ],
   "source": [
    "serves_basedon_gender = pd.merge(match_home_team_df, event_df, on = 'match_id')\n",
    "\n",
    "serves_basedon_gender = serves_basedon_gender[serves_basedon_gender['first_to_serve'].isin([0, 2])]\n",
    "double_faults = serves_basedon_gender.groupby('gender', as_index=False)['first_to_serve'].count()\n",
    "print(double_faults)"
   ]
  },
  {
   "cell_type": "code",
   "execution_count": 26,
   "metadata": {},
   "outputs": [
    {
     "data": {
      "text/plain": [
       "4"
      ]
     },
     "execution_count": 26,
     "metadata": {},
     "output_type": "execute_result"
    }
   ],
   "source": [
    "delta = abs(double_faults['first_to_serve'][1] - double_faults['first_to_serve'][0])\n",
    "delta"
   ]
  },
  {
   "cell_type": "markdown",
   "metadata": {},
   "source": [
    "- **Our analysis**"
   ]
  },
  {
   "cell_type": "markdown",
   "metadata": {},
   "source": [
    "The difference of dauble faults between men and women is 4 which is not a big number."
   ]
  },
  {
   "cell_type": "markdown",
   "metadata": {},
   "source": [
    "---\n",
    "### <font color='#D2B4DE'> Q9. Which player has won the most tournaments in a single month?</font>"
   ]
  },
  {
   "cell_type": "markdown",
   "metadata": {},
   "source": [
    "- **Load needed data**"
   ]
  },
  {
   "cell_type": "code",
   "execution_count": 27,
   "metadata": {},
   "outputs": [],
   "source": [
    "folder_path = 'data/raw_match_parquet/'\n",
    "\n",
    "round_df = load_data(folder_path, 'round_*.parquet')\n",
    "event_df = load_data(folder_path, 'event_*.parquet')"
   ]
  },
  {
   "cell_type": "code",
   "execution_count": 29,
   "metadata": {},
   "outputs": [
    {
     "name": "stderr",
     "output_type": "stream",
     "text": [
      "C:\\Users\\AmirMohammad\\AppData\\Local\\Temp\\ipykernel_5304\\2212516296.py:7: FutureWarning: Setting an item of incompatible dtype is deprecated and will raise an error in a future version of pandas. Value '['heide' 'heide' 'shelbayh' 'draper' 'van' 'kudermetova' 'bublik'\n",
      " 'mededovic' 'rodionov' 'jarry' 'alcaraz' 'alcaraz' 'davidovich'\n",
      " 'kalinina' 'brady' 'sabalenka' 'paolini' 'wang' 'fruhvirtova' 'wang'\n",
      " 'zhu' 'siniakova' 'sonobe' 'biolay' 'sierra' 'grant' 'kessler' 'stearns'\n",
      " 'kubka' 'privara' 'berberovic' 'pawelski' 'aunion' 'manzanera' 'singh'\n",
      " 'maksymchuk' 'merida' 'pokorny' 'gulin' 'janicijevic' 'falcao' 'krutykh'\n",
      " 'thomson' 'weis' 'sonobe' 'hoang' 'debru' 'gobat' 'sabas' 'liutarevich'\n",
      " 'fery' 'zarazua' 'claverie' 'saraiva' 'kuzuhara' 'roveri' 'bicknell'\n",
      " 'ono' 'tosetto' 'burnett' 'holmgren' 'moller' 'perez' 'rivera' 'zhu'\n",
      " 'chidekh' 'lalami' 'hsu' 'zakharov' 'kachmazov' 'uchiyama' 'sun'\n",
      " 'zhukayev' 'haliak' 'kirkin' 'lock' 'atmane' 'sekulic' 'tung' 'hijikata'\n",
      " 'pampanin' 'svajda']' has dtype incompatible with float64, please explicitly cast to a compatible dtype first.\n",
      "  event_round.loc[event_round['winner_code'] == 1, 'winner'] = event_round.loc[event_round['winner_code'] == 1, 'match_slug'].str.split('-').str[0]\n"
     ]
    },
    {
     "data": {
      "text/plain": [
       "winner       month\n",
       "berberovic   10       1\n",
       "crawford     10       1\n",
       "draper       10       1\n",
       "gill         10       1\n",
       "gjorcheska   10       1\n",
       "glinka       10       1\n",
       "grant        10       1\n",
       "guillen      10       1\n",
       "heide        10       1\n",
       "hobgarski    10       1\n",
       "janicijevic  10       1\n",
       "kubka        10       1\n",
       "kudermetova  10       1\n",
       "ma           10       1\n",
       "martynov     10       1\n",
       "privara      10       1\n",
       "roca         10       1\n",
       "safwat       10       1\n",
       "sonobe       10       1\n",
       "tabur        10       1\n",
       "vacherot     10       1\n",
       "zarazua      10       1\n",
       "dtype: int64"
      ]
     },
     "execution_count": 29,
     "metadata": {},
     "output_type": "execute_result"
    }
   ],
   "source": [
    "event_round = pd.merge(event_df, round_df, on='match_id')\n",
    "\n",
    "event_df['start_datetime'] = pd.to_datetime(event_df['start_datetime'], unit='s')\n",
    "event_df['month'] = event_df['start_datetime'].dt.month\n",
    "df_2 = pd.DataFrame(event_round['match_slug'],event_round['winner_code'])\n",
    "event_round['winner'] = np.nan\n",
    "event_round.loc[event_round['winner_code'] == 1, 'winner'] = event_round.loc[event_round['winner_code'] == 1, 'match_slug'].str.split('-').str[0]\n",
    "event_round.loc[event_round['winner_code'] == 2, 'winner'] = event_round.loc[event_round['winner_code'] == 2, 'match_slug'].str.split('-').str[1]\n",
    "event_round.drop(columns=['winner_code'], inplace=False)\n",
    "df_3 =event_round.loc[event_round['slug'] == 'final' ]\n",
    "df_3.groupby(['winner', 'month']).size()"
   ]
  },
  {
   "cell_type": "markdown",
   "metadata": {},
   "source": [
    "- **Our analysis**"
   ]
  },
  {
   "cell_type": "markdown",
   "metadata": {},
   "source": [
    "There are 22 tournament winners, it shows that none of the players defended of his trophy!"
   ]
  },
  {
   "cell_type": "markdown",
   "metadata": {},
   "source": [
    "---\n",
    "### <font color='#D2B4DE'> Q10. Is there a correlation between a player's height and their ranking?</font>"
   ]
  },
  {
   "cell_type": "markdown",
   "metadata": {},
   "source": [
    "- **Load needed data**"
   ]
  },
  {
   "cell_type": "code",
   "execution_count": 30,
   "metadata": {},
   "outputs": [
    {
     "name": "stderr",
     "output_type": "stream",
     "text": [
      "C:\\Users\\AmirMohammad\\AppData\\Local\\Temp\\ipykernel_5304\\838114465.py:13: FutureWarning: The behavior of DataFrame concatenation with empty or all-NA entries is deprecated. In a future version, this will no longer exclude empty or all-NA columns when determining the result dtypes. To retain the old behavior, exclude the relevant entries before the concat operation.\n",
      "  df = pd.concat([pd.read_parquet(file) for file in files], ignore_index=True)\n",
      "C:\\Users\\AmirMohammad\\AppData\\Local\\Temp\\ipykernel_5304\\838114465.py:13: FutureWarning: The behavior of DataFrame concatenation with empty or all-NA entries is deprecated. In a future version, this will no longer exclude empty or all-NA columns when determining the result dtypes. To retain the old behavior, exclude the relevant entries before the concat operation.\n",
      "  df = pd.concat([pd.read_parquet(file) for file in files], ignore_index=True)\n"
     ]
    }
   ],
   "source": [
    "folder_path = 'data/raw_match_parquet/'\n",
    "\n",
    "match_away_team_df = load_data(folder_path, 'away_team_11*.parquet')\n",
    "match_home_team_df = load_data(folder_path, 'home_team_11*.parquet')"
   ]
  },
  {
   "cell_type": "code",
   "execution_count": 31,
   "metadata": {},
   "outputs": [
    {
     "name": "stdout",
     "output_type": "stream",
     "text": [
      "Correlation rate is: 0.032551692442547304\n"
     ]
    }
   ],
   "source": [
    "height_rank_df = pd.concat([match_home_team_df, match_away_team_df], ignore_index=True)\n",
    "\n",
    "height_rank = height_rank_df[['player_id', 'height', 'current_rank']]\n",
    "height_rank_unique = height_rank.drop_duplicates()\n",
    "\n",
    "corr = height_rank_unique['height'].corr(height_rank_unique['current_rank'], method='pearson')\n",
    "print(f\"Correlation rate is: {corr}\")"
   ]
  },
  {
   "cell_type": "code",
   "execution_count": 32,
   "metadata": {},
   "outputs": [
    {
     "name": "stdout",
     "output_type": "stream",
     "text": [
      "<class 'pandas.core.frame.DataFrame'>\n",
      "Index: 596 entries, 0 to 818\n",
      "Data columns (total 3 columns):\n",
      " #   Column        Non-Null Count  Dtype  \n",
      "---  ------        --------------  -----  \n",
      " 0   player_id     596 non-null    int64  \n",
      " 1   height        339 non-null    float64\n",
      " 2   current_rank  578 non-null    object \n",
      "dtypes: float64(1), int64(1), object(1)\n",
      "memory usage: 18.6+ KB\n"
     ]
    }
   ],
   "source": [
    "height_rank_unique.info()"
   ]
  },
  {
   "cell_type": "markdown",
   "metadata": {},
   "source": [
    "- **Chart**"
   ]
  },
  {
   "cell_type": "code",
   "execution_count": 33,
   "metadata": {},
   "outputs": [
    {
     "data": {
      "image/png": "[encoded data removed]",
      "text/plain": [
       "<Figure size 800x600 with 1 Axes>"
      ]
     },
     "metadata": {},
     "output_type": "display_data"
    }
   ],
   "source": [
    "plt.figure(figsize=(8, 6))\n",
    "\n",
    "plt.plot(height_rank['height'], height_rank['current_rank'],'o', alpha=0.5)\n",
    "\n",
    "plt.title('Correlation between height and rank (Pearson Correlation: 0.032)', color='gray', loc='left', fontdict={'weight':'bold'})\n",
    "\n",
    "plt.xlabel('Height', color='gray', loc='left', fontdict={'weight':'bold'})\n",
    "plt.ylabel('Rank', color='gray', loc='bottom', fontdict={'weight':'bold'})\n",
    "\n",
    "plt.xticks(color='gray')\n",
    "plt.yticks(color='gray')\n",
    "\n",
    "plt.gca().spines[['top', 'right']].set_visible(False)\n",
    "plt.gca().spines[['bottom', 'left']].set_color('gray')\n",
    "\n",
    "plt.show()\n"
   ]
  },
  {
   "cell_type": "markdown",
   "metadata": {},
   "source": [
    "- **Our analysis**"
   ]
  },
  {
   "cell_type": "markdown",
   "metadata": {},
   "source": [
    "Correlation rate is near to 0 (0.032) and it indicates no correlation between player's height and ranking."
   ]
  },
  {
   "cell_type": "markdown",
   "metadata": {},
   "source": [
    "---\n",
    "### <font color='#D2B4DE'> Q11. What is the average duration of matches? </font>"
   ]
  },
  {
   "cell_type": "code",
   "execution_count": 34,
   "metadata": {},
   "outputs": [
    {
     "data": {
      "text/plain": [
       "42.05157068062827"
      ]
     },
     "execution_count": 34,
     "metadata": {},
     "output_type": "execute_result"
    }
   ],
   "source": [
    "matches_time['match_duration'].mean()"
   ]
  },
  {
   "cell_type": "markdown",
   "metadata": {},
   "source": [
    "- **Our analysis**"
   ]
  },
  {
   "cell_type": "markdown",
   "metadata": {},
   "source": [
    "The average duration of matches is about 42 minutes which makes sense since tennnis matches duration are between 30 minutes to an hour!"
   ]
  },
  {
   "cell_type": "markdown",
   "metadata": {},
   "source": [
    "---\n",
    "### <font color='#D2B4DE'> Q12.What is the average number of games per set in men's matches compared to women's matches?</font>"
   ]
  },
  {
   "cell_type": "markdown",
   "metadata": {},
   "source": [
    "- **Load needed data**"
   ]
  },
  {
   "cell_type": "code",
   "execution_count": 35,
   "metadata": {},
   "outputs": [],
   "source": [
    "folder_path = 'data/raw_tennis_power_parquet/'\n",
    "\n",
    "power_df = load_data(folder_path, 'power_*.parquet')"
   ]
  },
  {
   "cell_type": "code",
   "execution_count": 36,
   "metadata": {},
   "outputs": [],
   "source": [
    "games_per_set = power_df.merge(match_home_team_df, on = 'match_id', how = 'left')"
   ]
  },
  {
   "cell_type": "code",
   "execution_count": 37,
   "metadata": {},
   "outputs": [
    {
     "data": {
      "text/plain": [
       "8.861702127659575"
      ]
     },
     "execution_count": 37,
     "metadata": {},
     "output_type": "execute_result"
    }
   ],
   "source": [
    "female_games_per_set = games_per_set[games_per_set['gender'] == 'F']\n",
    "male_games_per_set = games_per_set[games_per_set['gender'] == 'M']\n",
    "F_count = female_games_per_set.groupby('match_id', as_index = False)['set_num'].value_counts()\n",
    "F_count\n",
    "\n",
    "Fmean_games_per_set = F_count['count'].mean()\n",
    "Fmean_games_per_set"
   ]
  },
  {
   "cell_type": "code",
   "execution_count": 38,
   "metadata": {},
   "outputs": [
    {
     "data": {
      "text/plain": [
       "9.138461538461538"
      ]
     },
     "execution_count": 38,
     "metadata": {},
     "output_type": "execute_result"
    }
   ],
   "source": [
    "M_count = male_games_per_set.groupby('match_id', as_index=False)['set_num'].value_counts()\n",
    "Mmean_games_per_set = M_count['count'].mean()\n",
    "Mmean_games_per_set"
   ]
  },
  {
   "cell_type": "markdown",
   "metadata": {},
   "source": [
    "- **Our analysis**"
   ]
  },
  {
   "cell_type": "markdown",
   "metadata": {},
   "source": [
    "Avarage of games per set in female competitions is 8 games and in male competitions is 9. \n",
    "Avarage of games per set in male competitions is more than females by one."
   ]
  },
  {
   "cell_type": "markdown",
   "metadata": {},
   "source": [
    "---\n",
    "### <font color='#D2B4DE'> Q13. What is the distribution of left-handed versus right-handed players?</font>"
   ]
  },
  {
   "cell_type": "markdown",
   "metadata": {},
   "source": [
    "- **Load needed data**"
   ]
  },
  {
   "cell_type": "code",
   "execution_count": 39,
   "metadata": {},
   "outputs": [
    {
     "name": "stderr",
     "output_type": "stream",
     "text": [
      "C:\\Users\\AmirMohammad\\AppData\\Local\\Temp\\ipykernel_5304\\838114465.py:13: FutureWarning: The behavior of DataFrame concatenation with empty or all-NA entries is deprecated. In a future version, this will no longer exclude empty or all-NA columns when determining the result dtypes. To retain the old behavior, exclude the relevant entries before the concat operation.\n",
      "  df = pd.concat([pd.read_parquet(file) for file in files], ignore_index=True)\n",
      "C:\\Users\\AmirMohammad\\AppData\\Local\\Temp\\ipykernel_5304\\838114465.py:13: FutureWarning: The behavior of DataFrame concatenation with empty or all-NA entries is deprecated. In a future version, this will no longer exclude empty or all-NA columns when determining the result dtypes. To retain the old behavior, exclude the relevant entries before the concat operation.\n",
      "  df = pd.concat([pd.read_parquet(file) for file in files], ignore_index=True)\n"
     ]
    }
   ],
   "source": [
    "folder_path = 'data/raw_match_parquet/'\n",
    "\n",
    "match_away_team_df = load_data(folder_path, 'away_team_11*.parquet')\n",
    "match_home_team_df = load_data(folder_path, 'home_team_11*.parquet')"
   ]
  },
  {
   "cell_type": "code",
   "execution_count": 40,
   "metadata": {},
   "outputs": [
    {
     "name": "stdout",
     "output_type": "stream",
     "text": [
      "The number of right-handed players is:  244\n",
      "The number of left-handed players is:  32 \n"
     ]
    }
   ],
   "source": [
    "right_left = pd.concat([match_home_team_df, match_away_team_df]).drop_duplicates('player_id')\n",
    "\n",
    "right_handed = (right_left['plays']).str.contains('right').sum()\n",
    "left_handed = (right_left['plays']).str.contains('left').sum()\n",
    "print(f'The number of right-handed players is:  {right_handed}')\n",
    "print(f'The number of left-handed players is:  {left_handed} ')"
   ]
  },
  {
   "cell_type": "markdown",
   "metadata": {},
   "source": [
    "- **Chart**"
   ]
  },
  {
   "cell_type": "code",
   "execution_count": 41,
   "metadata": {},
   "outputs": [
    {
     "data": {
      "image/png": "[encoded data removed]",
      "text/plain": [
       "<Figure size 800x600 with 1 Axes>"
      ]
     },
     "metadata": {},
     "output_type": "display_data"
    }
   ],
   "source": [
    "plt.figure(figsize=(8, 6))\n",
    "\n",
    "labels = ['Right-handed', 'Left-handed']\n",
    "counts = [right_handed, left_handed]\n",
    "\n",
    "plt.bar(labels, counts, color=['#7BD3EA', '#74E291'])\n",
    "plt.xlabel('Handedness',loc=\"left\", color=\"gray\",fontdict={\"weight\":\"bold\"})\n",
    "plt.ylabel('Count',loc=\"bottom\", color=\"gray\",fontdict={\"weight\":\"bold\"})\n",
    "plt.title('R-handed vs L-handed',loc=\"left\",color=\"gray\",fontdict={\"weight\":\"bold\"})\n",
    "plt.gca().tick_params(axis='y', labelsize=7,color=\"gray\")\n",
    "plt.gca().tick_params(axis='x', labelsize=7,color=\"gray\")\n",
    "plt.gca().spines['top'].set_visible(False)\n",
    "plt.gca().spines['right'].set_visible(False)\n",
    "\n",
    "plt.show()"
   ]
  },
  {
   "cell_type": "markdown",
   "metadata": {},
   "source": [
    "- **Our analysis**"
   ]
  },
  {
   "cell_type": "markdown",
   "metadata": {},
   "source": [
    "There are 244 right-handed an 32 left-handed players in this data which represent that the R-handed 8 times more than the L-handed!"
   ]
  },
  {
   "cell_type": "markdown",
   "metadata": {},
   "source": [
    "---\n",
    "### <font color='#D2B4DE'> Q14. What is the most common type of surface used in tournaments?</font>"
   ]
  },
  {
   "cell_type": "markdown",
   "metadata": {},
   "source": [
    "- **Load needed data**"
   ]
  },
  {
   "cell_type": "code",
   "execution_count": 42,
   "metadata": {},
   "outputs": [],
   "source": [
    "folder_path = 'data/raw_match_parquet/'\n",
    "\n",
    "tournament_df = load_data(folder_path, 'tournament_*.parquet')"
   ]
  },
  {
   "cell_type": "code",
   "execution_count": 43,
   "metadata": {},
   "outputs": [
    {
     "data": {
      "text/plain": [
       "ground_type\n",
       "Hardcourt outdoor    336\n",
       "Red clay             323\n",
       "Hardcourt indoor      84\n",
       "Carpet indoor          3\n",
       "Synthetic outdoor      1\n",
       "Name: count, dtype: int64"
      ]
     },
     "execution_count": 43,
     "metadata": {},
     "output_type": "execute_result"
    }
   ],
   "source": [
    "surfaces = tournament_df['ground_type'].value_counts()\n",
    "surfaces"
   ]
  },
  {
   "cell_type": "markdown",
   "metadata": {},
   "source": [
    "- **Chart**"
   ]
  },
  {
   "cell_type": "code",
   "execution_count": 44,
   "metadata": {},
   "outputs": [
    {
     "data": {
      "image/png": "[encoded data removed]",
      "text/plain": [
       "<Figure size 800x600 with 1 Axes>"
      ]
     },
     "metadata": {},
     "output_type": "display_data"
    }
   ],
   "source": [
    "plt.figure(figsize=(8, 6))\n",
    "\n",
    "plt.barh(surfaces.index, surfaces.values, color='skyblue')\n",
    "\n",
    "plt.title('Most used courts in tennis', color='gray', loc='left', fontdict={'weight': 'bold'})\n",
    "\n",
    "plt.xlabel('Number of Matches', color='gray', loc='left', fontdict={'weight': 'bold'})\n",
    "\n",
    "plt.xticks(color='gray')\n",
    "plt.yticks(color='gray')\n",
    "\n",
    "plt.gca().spines[['top', 'right']].set_visible(False)\n",
    "plt.gca().spines[['bottom', 'left']].set_color('gray')\n",
    "\n",
    "plt.show()"
   ]
  },
  {
   "cell_type": "markdown",
   "metadata": {},
   "source": [
    "- **Our analysis**"
   ]
  },
  {
   "cell_type": "markdown",
   "metadata": {},
   "source": [
    "As you can see, we have 5 types of courts, but most of the matches are played on \"Hardcourt outdoor\"."
   ]
  },
  {
   "cell_type": "markdown",
   "metadata": {},
   "source": [
    "---\n",
    "### <font color='#D2B4DE'> Q15. How many distinct countries are represented in the dataset?</font>"
   ]
  },
  {
   "cell_type": "markdown",
   "metadata": {},
   "source": [
    "- **Load needed data**"
   ]
  },
  {
   "cell_type": "code",
   "execution_count": 45,
   "metadata": {},
   "outputs": [
    {
     "name": "stderr",
     "output_type": "stream",
     "text": [
      "C:\\Users\\AmirMohammad\\AppData\\Local\\Temp\\ipykernel_5304\\838114465.py:13: FutureWarning: The behavior of DataFrame concatenation with empty or all-NA entries is deprecated. In a future version, this will no longer exclude empty or all-NA columns when determining the result dtypes. To retain the old behavior, exclude the relevant entries before the concat operation.\n",
      "  df = pd.concat([pd.read_parquet(file) for file in files], ignore_index=True)\n",
      "C:\\Users\\AmirMohammad\\AppData\\Local\\Temp\\ipykernel_5304\\838114465.py:13: FutureWarning: The behavior of DataFrame concatenation with empty or all-NA entries is deprecated. In a future version, this will no longer exclude empty or all-NA columns when determining the result dtypes. To retain the old behavior, exclude the relevant entries before the concat operation.\n",
      "  df = pd.concat([pd.read_parquet(file) for file in files], ignore_index=True)\n"
     ]
    }
   ],
   "source": [
    "folder_path = 'data/raw_match_parquet/'\n",
    "\n",
    "match_away_team_df = load_data(folder_path, 'away_team_11*.parquet')\n",
    "match_home_team_df = load_data(folder_path, 'home_team_11*.parquet')\n",
    "venue_df = load_data(folder_path, 'venue_*.parquet')"
   ]
  },
  {
   "cell_type": "code",
   "execution_count": 46,
   "metadata": {},
   "outputs": [
    {
     "data": {
      "text/plain": [
       "country\n",
       "France        85\n",
       "Italy         59\n",
       "USA           55\n",
       "Argentina     44\n",
       "Germany       40\n",
       "              ..\n",
       "Luxembourg     1\n",
       "Venezuela      1\n",
       "Bolivia        1\n",
       "Algeria        1\n",
       "Greece         1\n",
       "Name: count, Length: 70, dtype: int64"
      ]
     },
     "execution_count": 46,
     "metadata": {},
     "output_type": "execute_result"
    }
   ],
   "source": [
    "player_by_countries = pd.concat([match_home_team_df, match_away_team_df], ignore_index=True)\n",
    "pbs = player_by_countries['country'].value_counts()\n",
    "pbs"
   ]
  },
  {
   "cell_type": "markdown",
   "metadata": {},
   "source": [
    "- **Chart**"
   ]
  },
  {
   "cell_type": "code",
   "execution_count": 47,
   "metadata": {},
   "outputs": [
    {
     "data": {
      "image/png": "[encoded data removed]",
      "text/plain": [
       "<Figure size 800x600 with 1 Axes>"
      ]
     },
     "metadata": {},
     "output_type": "display_data"
    }
   ],
   "source": [
    "plt.figure(figsize=(8, 6))\n",
    "\n",
    "pbs = pbs.head(10).sort_values(ascending=True)\n",
    "\n",
    "plt.barh(pbs.index, pbs.values, color='skyblue')\n",
    "\n",
    "plt.title('Players per Country', color='gray', loc='left', fontdict={'weight': 'bold'})\n",
    "\n",
    "plt.xlabel('Number of Players', color='gray', loc='left', fontdict={'weight': 'bold'})\n",
    "\n",
    "plt.xticks(color='gray')\n",
    "plt.yticks(color='gray')\n",
    "\n",
    "plt.gca().spines[['top', 'right']].set_visible(False)\n",
    "plt.gca().spines[['bottom', 'left']].set_color('gray')\n",
    "\n",
    "plt.show()"
   ]
  },
  {
   "cell_type": "code",
   "execution_count": 48,
   "metadata": {},
   "outputs": [
    {
     "name": "stdout",
     "output_type": "stream",
     "text": [
      "19 countries are hosted matches!\n"
     ]
    },
    {
     "data": {
      "text/plain": [
       "country\n",
       "France        79\n",
       "Tunisia       79\n",
       "Argentina     75\n",
       "Egypt         68\n",
       "Spain         64\n",
       "China         60\n",
       "Australia     57\n",
       "Austria       49\n",
       "Portugal      45\n",
       "Croatia       38\n",
       "Bulgaria      36\n",
       "Italy         34\n",
       "USA           25\n",
       "Japan         18\n",
       "Brazil        15\n",
       "Qatar          8\n",
       "Kazakhstan     7\n",
       "Colombia       3\n",
       "Serbia         2\n",
       "Name: count, dtype: int64"
      ]
     },
     "execution_count": 48,
     "metadata": {},
     "output_type": "execute_result"
    }
   ],
   "source": [
    "print(f'{venue_df['country'].nunique()} countries are hosted matches!')\n",
    "host_countries = venue_df['country'].value_counts()\n",
    "host_countries"
   ]
  },
  {
   "cell_type": "markdown",
   "metadata": {},
   "source": [
    "- **Chart**"
   ]
  },
  {
   "cell_type": "code",
   "execution_count": 49,
   "metadata": {},
   "outputs": [
    {
     "data": {
      "image/png": "[encoded data removed]",
      "text/plain": [
       "<Figure size 800x600 with 1 Axes>"
      ]
     },
     "metadata": {},
     "output_type": "display_data"
    }
   ],
   "source": [
    "plt.figure(figsize=(8, 6))\n",
    "\n",
    "host_countries = host_countries.sort_values(ascending=True)\n",
    "\n",
    "plt.barh(host_countries.index, host_countries.values, color='skyblue')\n",
    "\n",
    "plt.title('Hosts by Countries', color='gray', loc='left', fontdict={'weight': 'bold'})\n",
    "\n",
    "plt.xlabel('Number of Matches', color='gray', loc='left', fontdict={'weight': 'bold'})\n",
    "\n",
    "plt.xticks(color='gray')\n",
    "plt.yticks(color='gray')\n",
    "\n",
    "plt.gca().tick_params(axis='y', labelsize=10)\n",
    "plt.gca().spines[['top', 'right']].set_visible(False)\n",
    "plt.gca().spines[['bottom', 'left']].set_color('gray')\n",
    "\n",
    "plt.show()"
   ]
  },
  {
   "cell_type": "markdown",
   "metadata": {},
   "source": [
    "- **Our analysis**"
   ]
  },
  {
   "cell_type": "markdown",
   "metadata": {},
   "source": [
    "We have players from 70 countries. Most of them are french. Also, 19 countries have hosted the matches.\n",
    "France and Tunisia jointly hosted the most matches with 79 matches!"
   ]
  },
  {
   "cell_type": "markdown",
   "metadata": {},
   "source": [
    "---\n",
    "### <font color='#D2B4DE'> Q16. Which player has the highest winning percentage against top 10 ranked opponents?</font>"
   ]
  },
  {
   "cell_type": "markdown",
   "metadata": {},
   "source": [
    "- **Load needed data**"
   ]
  },
  {
   "cell_type": "code",
   "execution_count": 50,
   "metadata": {},
   "outputs": [
    {
     "name": "stderr",
     "output_type": "stream",
     "text": [
      "C:\\Users\\AmirMohammad\\AppData\\Local\\Temp\\ipykernel_5304\\838114465.py:13: FutureWarning: The behavior of DataFrame concatenation with empty or all-NA entries is deprecated. In a future version, this will no longer exclude empty or all-NA columns when determining the result dtypes. To retain the old behavior, exclude the relevant entries before the concat operation.\n",
      "  df = pd.concat([pd.read_parquet(file) for file in files], ignore_index=True)\n",
      "C:\\Users\\AmirMohammad\\AppData\\Local\\Temp\\ipykernel_5304\\838114465.py:13: FutureWarning: The behavior of DataFrame concatenation with empty or all-NA entries is deprecated. In a future version, this will no longer exclude empty or all-NA columns when determining the result dtypes. To retain the old behavior, exclude the relevant entries before the concat operation.\n",
      "  df = pd.concat([pd.read_parquet(file) for file in files], ignore_index=True)\n"
     ]
    }
   ],
   "source": [
    "folder_path = 'data/raw_match_parquet/'\n",
    "\n",
    "match_away_team_df = load_data(folder_path, 'away_team_11*.parquet')\n",
    "match_home_team_df = load_data(folder_path, 'home_team_11*.parquet')\n",
    "event_df = load_data(folder_path, 'event_*.parquet')"
   ]
  },
  {
   "cell_type": "code",
   "execution_count": 51,
   "metadata": {},
   "outputs": [
    {
     "data": {
      "text/html": [
       "<div>\n",
       "<style scoped>\n",
       "    .dataframe tbody tr th:only-of-type {\n",
       "        vertical-align: middle;\n",
       "    }\n",
       "\n",
       "    .dataframe tbody tr th {\n",
       "        vertical-align: top;\n",
       "    }\n",
       "\n",
       "    .dataframe thead th {\n",
       "        text-align: right;\n",
       "    }\n",
       "</style>\n",
       "<table border=\"1\" class=\"dataframe\">\n",
       "  <thead>\n",
       "    <tr style=\"text-align: right;\">\n",
       "      <th></th>\n",
       "      <th>match_id</th>\n",
       "      <th>name_x</th>\n",
       "      <th>slug_x</th>\n",
       "      <th>gender_x</th>\n",
       "      <th>user_count_x</th>\n",
       "      <th>residence_x</th>\n",
       "      <th>birthplace_x</th>\n",
       "      <th>height_x</th>\n",
       "      <th>weight_x</th>\n",
       "      <th>plays_x</th>\n",
       "      <th>...</th>\n",
       "      <th>full_name_y</th>\n",
       "      <th>first_to_serve</th>\n",
       "      <th>home_team_seed</th>\n",
       "      <th>away_team_seed</th>\n",
       "      <th>custom_id</th>\n",
       "      <th>winner_code</th>\n",
       "      <th>default_period_count</th>\n",
       "      <th>start_datetime</th>\n",
       "      <th>match_slug</th>\n",
       "      <th>final_result_only</th>\n",
       "    </tr>\n",
       "  </thead>\n",
       "  <tbody>\n",
       "    <tr>\n",
       "      <th>0</th>\n",
       "      <td>11674074</td>\n",
       "      <td>Kudermetova V.</td>\n",
       "      <td>kudermetova-veronika</td>\n",
       "      <td>F</td>\n",
       "      <td>5894</td>\n",
       "      <td>Moscow,Russia</td>\n",
       "      <td>Kazan,Russia</td>\n",
       "      <td>1.75</td>\n",
       "      <td>None</td>\n",
       "      <td>right-handed</td>\n",
       "      <td>...</td>\n",
       "      <td>Pegula, Jessica</td>\n",
       "      <td>1</td>\n",
       "      <td>8</td>\n",
       "      <td>2</td>\n",
       "      <td>JWrstOB</td>\n",
       "      <td>1</td>\n",
       "      <td>3</td>\n",
       "      <td>1696129200</td>\n",
       "      <td>kudermetova-pegula</td>\n",
       "      <td>False</td>\n",
       "    </tr>\n",
       "    <tr>\n",
       "      <th>1</th>\n",
       "      <td>11675440</td>\n",
       "      <td>Humbert U.</td>\n",
       "      <td>humbert-ugo</td>\n",
       "      <td>M</td>\n",
       "      <td>6701</td>\n",
       "      <td>Luxembourg</td>\n",
       "      <td>Metz, France</td>\n",
       "      <td>1.88</td>\n",
       "      <td>72</td>\n",
       "      <td>left-handed</td>\n",
       "      <td>...</td>\n",
       "      <td>Medvedev, Daniil</td>\n",
       "      <td>2</td>\n",
       "      <td>None</td>\n",
       "      <td>2</td>\n",
       "      <td>evpbsNhzb</td>\n",
       "      <td>2</td>\n",
       "      <td>3</td>\n",
       "      <td>1696221000</td>\n",
       "      <td>humbert-medvedev</td>\n",
       "      <td>False</td>\n",
       "    </tr>\n",
       "    <tr>\n",
       "      <th>2</th>\n",
       "      <td>11675443</td>\n",
       "      <td>Zverev A.</td>\n",
       "      <td>zverev-alexander</td>\n",
       "      <td>M</td>\n",
       "      <td>49973</td>\n",
       "      <td>Monte Carlo, Monaco</td>\n",
       "      <td>Hamburg, Germany</td>\n",
       "      <td>1.98</td>\n",
       "      <td>90</td>\n",
       "      <td>right-handed</td>\n",
       "      <td>...</td>\n",
       "      <td>Jarry, Nicolas</td>\n",
       "      <td>1</td>\n",
       "      <td>8</td>\n",
       "      <td>None</td>\n",
       "      <td>nTxsHRK</td>\n",
       "      <td>1</td>\n",
       "      <td>3</td>\n",
       "      <td>1696230000</td>\n",
       "      <td>jarry-zverev</td>\n",
       "      <td>False</td>\n",
       "    </tr>\n",
       "    <tr>\n",
       "      <th>3</th>\n",
       "      <td>11675444</td>\n",
       "      <td>Alcaraz C.</td>\n",
       "      <td>alcaraz-carlos</td>\n",
       "      <td>M</td>\n",
       "      <td>120920</td>\n",
       "      <td>El Palmar, Murcia, Spain</td>\n",
       "      <td>El Palmar, Murcia, Spain</td>\n",
       "      <td>1.83</td>\n",
       "      <td>68</td>\n",
       "      <td>right-handed</td>\n",
       "      <td>...</td>\n",
       "      <td>Musetti, Lorenzo</td>\n",
       "      <td>1</td>\n",
       "      <td>1</td>\n",
       "      <td>None</td>\n",
       "      <td>pvecsytkc</td>\n",
       "      <td>1</td>\n",
       "      <td>3</td>\n",
       "      <td>1696147200</td>\n",
       "      <td>alcaraz-musetti</td>\n",
       "      <td>False</td>\n",
       "    </tr>\n",
       "    <tr>\n",
       "      <th>4</th>\n",
       "      <td>11675445</td>\n",
       "      <td>Dimitrov G.</td>\n",
       "      <td>dimitrov-grigor</td>\n",
       "      <td>M</td>\n",
       "      <td>22646</td>\n",
       "      <td>Monte Carlo, Monaco</td>\n",
       "      <td>Haskovo, Bulgaria</td>\n",
       "      <td>1.91</td>\n",
       "      <td>81</td>\n",
       "      <td>right-handed</td>\n",
       "      <td>...</td>\n",
       "      <td>Sinner, Jannik</td>\n",
       "      <td>1</td>\n",
       "      <td>None</td>\n",
       "      <td>6</td>\n",
       "      <td>GwjsvGHb</td>\n",
       "      <td>2</td>\n",
       "      <td>3</td>\n",
       "      <td>1696251600</td>\n",
       "      <td>sinner-dimitrov</td>\n",
       "      <td>False</td>\n",
       "    </tr>\n",
       "    <tr>\n",
       "      <th>5</th>\n",
       "      <td>11675446</td>\n",
       "      <td>Rune H.</td>\n",
       "      <td>rune-holger</td>\n",
       "      <td>M</td>\n",
       "      <td>32906</td>\n",
       "      <td>Charlottenlund, Denmark</td>\n",
       "      <td>Gentofte, Denmark</td>\n",
       "      <td>1.88</td>\n",
       "      <td>68</td>\n",
       "      <td>right-handed</td>\n",
       "      <td>...</td>\n",
       "      <td>Dimitrov, Grigor</td>\n",
       "      <td>1</td>\n",
       "      <td>3</td>\n",
       "      <td>None</td>\n",
       "      <td>Gwjsvlnc</td>\n",
       "      <td>2</td>\n",
       "      <td>3</td>\n",
       "      <td>1696159800</td>\n",
       "      <td>rune-dimitrov</td>\n",
       "      <td>False</td>\n",
       "    </tr>\n",
       "    <tr>\n",
       "      <th>6</th>\n",
       "      <td>11675447</td>\n",
       "      <td>Alcaraz C.</td>\n",
       "      <td>alcaraz-carlos</td>\n",
       "      <td>M</td>\n",
       "      <td>120920</td>\n",
       "      <td>El Palmar, Murcia, Spain</td>\n",
       "      <td>El Palmar, Murcia, Spain</td>\n",
       "      <td>1.83</td>\n",
       "      <td>68</td>\n",
       "      <td>right-handed</td>\n",
       "      <td>...</td>\n",
       "      <td>Ruud, Casper</td>\n",
       "      <td>1</td>\n",
       "      <td>1</td>\n",
       "      <td>7</td>\n",
       "      <td>YJXsytkc</td>\n",
       "      <td>1</td>\n",
       "      <td>3</td>\n",
       "      <td>1696245900</td>\n",
       "      <td>alcaraz-ruud</td>\n",
       "      <td>False</td>\n",
       "    </tr>\n",
       "    <tr>\n",
       "      <th>7</th>\n",
       "      <td>11675449</td>\n",
       "      <td>Zverev A.</td>\n",
       "      <td>zverev-alexander</td>\n",
       "      <td>M</td>\n",
       "      <td>49973</td>\n",
       "      <td>Monte Carlo, Monaco</td>\n",
       "      <td>Hamburg, Germany</td>\n",
       "      <td>1.98</td>\n",
       "      <td>90</td>\n",
       "      <td>right-handed</td>\n",
       "      <td>...</td>\n",
       "      <td>Davidovich Fokina, Alejandro</td>\n",
       "      <td>2</td>\n",
       "      <td>8</td>\n",
       "      <td>None</td>\n",
       "      <td>nTxsgZmb</td>\n",
       "      <td>1</td>\n",
       "      <td>3</td>\n",
       "      <td>1696089300</td>\n",
       "      <td>davidovich-fokina-zverev</td>\n",
       "      <td>False</td>\n",
       "    </tr>\n",
       "    <tr>\n",
       "      <th>8</th>\n",
       "      <td>11675450</td>\n",
       "      <td>Nishioka Y.</td>\n",
       "      <td>nishioka-yoshihito</td>\n",
       "      <td>M</td>\n",
       "      <td>4166</td>\n",
       "      <td>Mie, Japan</td>\n",
       "      <td>Mie, Japan</td>\n",
       "      <td>1.70</td>\n",
       "      <td>64</td>\n",
       "      <td>left-handed</td>\n",
       "      <td>...</td>\n",
       "      <td>Sinner, Jannik</td>\n",
       "      <td>2</td>\n",
       "      <td>None</td>\n",
       "      <td>6</td>\n",
       "      <td>GKysvGHb</td>\n",
       "      <td>2</td>\n",
       "      <td>3</td>\n",
       "      <td>1696152900</td>\n",
       "      <td>sinner-nishioka</td>\n",
       "      <td>False</td>\n",
       "    </tr>\n",
       "    <tr>\n",
       "      <th>9</th>\n",
       "      <td>11697107</td>\n",
       "      <td>Sabalenka A.</td>\n",
       "      <td>sabalenka-aryna</td>\n",
       "      <td>F</td>\n",
       "      <td>26040</td>\n",
       "      <td>Belarus</td>\n",
       "      <td>Minsk, Belarus</td>\n",
       "      <td>1.82</td>\n",
       "      <td>None</td>\n",
       "      <td>right-handed</td>\n",
       "      <td>...</td>\n",
       "      <td>Kenin, Sofia</td>\n",
       "      <td>1</td>\n",
       "      <td>1</td>\n",
       "      <td>WC</td>\n",
       "      <td>kOLsefnb</td>\n",
       "      <td>1</td>\n",
       "      <td>3</td>\n",
       "      <td>1696142100</td>\n",
       "      <td>sabalenka-kenin</td>\n",
       "      <td>False</td>\n",
       "    </tr>\n",
       "    <tr>\n",
       "      <th>10</th>\n",
       "      <td>11697110</td>\n",
       "      <td>Zheng Q.</td>\n",
       "      <td>zheng-qinwen</td>\n",
       "      <td>F</td>\n",
       "      <td>5963</td>\n",
       "      <td>None</td>\n",
       "      <td>Shiyan, Hubei Province, China</td>\n",
       "      <td>1.78</td>\n",
       "      <td>None</td>\n",
       "      <td>right-handed</td>\n",
       "      <td>...</td>\n",
       "      <td>Rybakina, Elena</td>\n",
       "      <td>2</td>\n",
       "      <td>None</td>\n",
       "      <td>5</td>\n",
       "      <td>mBzbsJfdc</td>\n",
       "      <td>2</td>\n",
       "      <td>3</td>\n",
       "      <td>1696246200</td>\n",
       "      <td>zheng-rybakina</td>\n",
       "      <td>False</td>\n",
       "    </tr>\n",
       "    <tr>\n",
       "      <th>11</th>\n",
       "      <td>11697122</td>\n",
       "      <td>Alexandrova E.</td>\n",
       "      <td>alexandrova-ekaterina</td>\n",
       "      <td>F</td>\n",
       "      <td>3843</td>\n",
       "      <td>Prague, Czech Republic</td>\n",
       "      <td>Chelyabinsk, Russia</td>\n",
       "      <td>1.75</td>\n",
       "      <td>66</td>\n",
       "      <td>right-handed</td>\n",
       "      <td>...</td>\n",
       "      <td>Gauff, Cori</td>\n",
       "      <td>2</td>\n",
       "      <td>None</td>\n",
       "      <td>3</td>\n",
       "      <td>jfCsIZfc</td>\n",
       "      <td>2</td>\n",
       "      <td>3</td>\n",
       "      <td>1696239600</td>\n",
       "      <td>gauff-alexandrova</td>\n",
       "      <td>False</td>\n",
       "    </tr>\n",
       "    <tr>\n",
       "      <th>12</th>\n",
       "      <td>11697123</td>\n",
       "      <td>Vondroušová M.</td>\n",
       "      <td>vondrousova-marketa</td>\n",
       "      <td>F</td>\n",
       "      <td>6671</td>\n",
       "      <td>Sokolov, CZE</td>\n",
       "      <td>Sokolov, CZE</td>\n",
       "      <td>1.72</td>\n",
       "      <td>59</td>\n",
       "      <td>left-handed</td>\n",
       "      <td>...</td>\n",
       "      <td>Kalinina, Anhelina</td>\n",
       "      <td>1</td>\n",
       "      <td>8</td>\n",
       "      <td>None</td>\n",
       "      <td>onLseglb</td>\n",
       "      <td>2</td>\n",
       "      <td>3</td>\n",
       "      <td>1696134600</td>\n",
       "      <td>vondrousova-kalinina</td>\n",
       "      <td>False</td>\n",
       "    </tr>\n",
       "    <tr>\n",
       "      <th>13</th>\n",
       "      <td>11697126</td>\n",
       "      <td>Sorribes Tormo S.</td>\n",
       "      <td>sorribes-tormo-sara</td>\n",
       "      <td>F</td>\n",
       "      <td>3287</td>\n",
       "      <td>Vall de Uxó, Spain</td>\n",
       "      <td>Castellón, Spain</td>\n",
       "      <td>1.76</td>\n",
       "      <td>69</td>\n",
       "      <td>right-handed</td>\n",
       "      <td>...</td>\n",
       "      <td>Swiatek, Iga</td>\n",
       "      <td>1</td>\n",
       "      <td>None</td>\n",
       "      <td>2</td>\n",
       "      <td>RhzsxpQb</td>\n",
       "      <td>2</td>\n",
       "      <td>3</td>\n",
       "      <td>1696219500</td>\n",
       "      <td>swiatek-sorribes-tormo</td>\n",
       "      <td>False</td>\n",
       "    </tr>\n",
       "    <tr>\n",
       "      <th>14</th>\n",
       "      <td>11698397</td>\n",
       "      <td>Krejčíková B.</td>\n",
       "      <td>krejcikova-barbora</td>\n",
       "      <td>F</td>\n",
       "      <td>7146</td>\n",
       "      <td>Ivancice, Czech Republic</td>\n",
       "      <td>Brno, Czech Republic</td>\n",
       "      <td>1.78</td>\n",
       "      <td>None</td>\n",
       "      <td>right-handed</td>\n",
       "      <td>...</td>\n",
       "      <td>Andreeva, Mirra</td>\n",
       "      <td>2</td>\n",
       "      <td>10</td>\n",
       "      <td>Q</td>\n",
       "      <td>YhzsBKmd</td>\n",
       "      <td>2</td>\n",
       "      <td>3</td>\n",
       "      <td>1696159500</td>\n",
       "      <td>andreeva-krejcikova</td>\n",
       "      <td>False</td>\n",
       "    </tr>\n",
       "    <tr>\n",
       "      <th>15</th>\n",
       "      <td>11698399</td>\n",
       "      <td>Krueger A.</td>\n",
       "      <td>krueger-ashlyn</td>\n",
       "      <td>F</td>\n",
       "      <td>1014</td>\n",
       "      <td>None</td>\n",
       "      <td>Dallas, TX, USA</td>\n",
       "      <td>1.85</td>\n",
       "      <td>None</td>\n",
       "      <td>right-handed</td>\n",
       "      <td>...</td>\n",
       "      <td>Jabeur, Ons</td>\n",
       "      <td>1</td>\n",
       "      <td>Q</td>\n",
       "      <td>7</td>\n",
       "      <td>bixsmvzc</td>\n",
       "      <td>2</td>\n",
       "      <td>3</td>\n",
       "      <td>1696227300</td>\n",
       "      <td>krueger-jabeur</td>\n",
       "      <td>False</td>\n",
       "    </tr>\n",
       "  </tbody>\n",
       "</table>\n",
       "<p>16 rows × 44 columns</p>\n",
       "</div>"
      ],
      "text/plain": [
       "    match_id             name_x                 slug_x gender_x  user_count_x  \\\n",
       "0   11674074     Kudermetova V.   kudermetova-veronika        F          5894   \n",
       "1   11675440         Humbert U.            humbert-ugo        M          6701   \n",
       "2   11675443          Zverev A.       zverev-alexander        M         49973   \n",
       "3   11675444         Alcaraz C.         alcaraz-carlos        M        120920   \n",
       "4   11675445        Dimitrov G.        dimitrov-grigor        M         22646   \n",
       "5   11675446            Rune H.            rune-holger        M         32906   \n",
       "6   11675447         Alcaraz C.         alcaraz-carlos        M        120920   \n",
       "7   11675449          Zverev A.       zverev-alexander        M         49973   \n",
       "8   11675450        Nishioka Y.     nishioka-yoshihito        M          4166   \n",
       "9   11697107       Sabalenka A.        sabalenka-aryna        F         26040   \n",
       "10  11697110           Zheng Q.           zheng-qinwen        F          5963   \n",
       "11  11697122     Alexandrova E.  alexandrova-ekaterina        F          3843   \n",
       "12  11697123     Vondroušová M.    vondrousova-marketa        F          6671   \n",
       "13  11697126  Sorribes Tormo S.    sorribes-tormo-sara        F          3287   \n",
       "14  11698397      Krejčíková B.     krejcikova-barbora        F          7146   \n",
       "15  11698399         Krueger A.         krueger-ashlyn        F          1014   \n",
       "\n",
       "                 residence_x                   birthplace_x  height_x  \\\n",
       "0              Moscow,Russia                   Kazan,Russia      1.75   \n",
       "1                 Luxembourg                   Metz, France      1.88   \n",
       "2        Monte Carlo, Monaco               Hamburg, Germany      1.98   \n",
       "3   El Palmar, Murcia, Spain       El Palmar, Murcia, Spain      1.83   \n",
       "4        Monte Carlo, Monaco              Haskovo, Bulgaria      1.91   \n",
       "5    Charlottenlund, Denmark              Gentofte, Denmark      1.88   \n",
       "6   El Palmar, Murcia, Spain       El Palmar, Murcia, Spain      1.83   \n",
       "7        Monte Carlo, Monaco               Hamburg, Germany      1.98   \n",
       "8                 Mie, Japan                     Mie, Japan      1.70   \n",
       "9                    Belarus                 Minsk, Belarus      1.82   \n",
       "10                      None  Shiyan, Hubei Province, China      1.78   \n",
       "11    Prague, Czech Republic            Chelyabinsk, Russia      1.75   \n",
       "12              Sokolov, CZE                   Sokolov, CZE      1.72   \n",
       "13        Vall de Uxó, Spain               Castellón, Spain      1.76   \n",
       "14  Ivancice, Czech Republic           Brno, Czech Republic      1.78   \n",
       "15                      None                Dallas, TX, USA      1.85   \n",
       "\n",
       "   weight_x       plays_x  ...                   full_name_y first_to_serve  \\\n",
       "0      None  right-handed  ...               Pegula, Jessica              1   \n",
       "1        72   left-handed  ...              Medvedev, Daniil              2   \n",
       "2        90  right-handed  ...                Jarry, Nicolas              1   \n",
       "3        68  right-handed  ...              Musetti, Lorenzo              1   \n",
       "4        81  right-handed  ...                Sinner, Jannik              1   \n",
       "5        68  right-handed  ...              Dimitrov, Grigor              1   \n",
       "6        68  right-handed  ...                  Ruud, Casper              1   \n",
       "7        90  right-handed  ...  Davidovich Fokina, Alejandro              2   \n",
       "8        64   left-handed  ...                Sinner, Jannik              2   \n",
       "9      None  right-handed  ...                  Kenin, Sofia              1   \n",
       "10     None  right-handed  ...               Rybakina, Elena              2   \n",
       "11       66  right-handed  ...                   Gauff, Cori              2   \n",
       "12       59   left-handed  ...            Kalinina, Anhelina              1   \n",
       "13       69  right-handed  ...                  Swiatek, Iga              1   \n",
       "14     None  right-handed  ...               Andreeva, Mirra              2   \n",
       "15     None  right-handed  ...                   Jabeur, Ons              1   \n",
       "\n",
       "   home_team_seed  away_team_seed  custom_id winner_code default_period_count  \\\n",
       "0               8               2    JWrstOB           1                    3   \n",
       "1            None               2  evpbsNhzb           2                    3   \n",
       "2               8            None    nTxsHRK           1                    3   \n",
       "3               1            None  pvecsytkc           1                    3   \n",
       "4            None               6   GwjsvGHb           2                    3   \n",
       "5               3            None   Gwjsvlnc           2                    3   \n",
       "6               1               7   YJXsytkc           1                    3   \n",
       "7               8            None   nTxsgZmb           1                    3   \n",
       "8            None               6   GKysvGHb           2                    3   \n",
       "9               1              WC   kOLsefnb           1                    3   \n",
       "10           None               5  mBzbsJfdc           2                    3   \n",
       "11           None               3   jfCsIZfc           2                    3   \n",
       "12              8            None   onLseglb           2                    3   \n",
       "13           None               2   RhzsxpQb           2                    3   \n",
       "14             10               Q   YhzsBKmd           2                    3   \n",
       "15              Q               7   bixsmvzc           2                    3   \n",
       "\n",
       "   start_datetime                match_slug final_result_only  \n",
       "0      1696129200        kudermetova-pegula             False  \n",
       "1      1696221000          humbert-medvedev             False  \n",
       "2      1696230000              jarry-zverev             False  \n",
       "3      1696147200           alcaraz-musetti             False  \n",
       "4      1696251600           sinner-dimitrov             False  \n",
       "5      1696159800             rune-dimitrov             False  \n",
       "6      1696245900              alcaraz-ruud             False  \n",
       "7      1696089300  davidovich-fokina-zverev             False  \n",
       "8      1696152900           sinner-nishioka             False  \n",
       "9      1696142100           sabalenka-kenin             False  \n",
       "10     1696246200            zheng-rybakina             False  \n",
       "11     1696239600         gauff-alexandrova             False  \n",
       "12     1696134600      vondrousova-kalinina             False  \n",
       "13     1696219500    swiatek-sorribes-tormo             False  \n",
       "14     1696159500       andreeva-krejcikova             False  \n",
       "15     1696227300            krueger-jabeur             False  \n",
       "\n",
       "[16 rows x 44 columns]"
      ]
     },
     "execution_count": 51,
     "metadata": {},
     "output_type": "execute_result"
    }
   ],
   "source": [
    "home_away_merge = pd.merge(match_home_team_df, match_away_team_df, on='match_id')\n",
    "home_away_merge.drop_duplicates(subset='match_id')\n",
    "\n",
    "home_away_merge = home_away_merge[(home_away_merge['current_rank_x'] <= 10) | (home_away_merge['current_rank_y'] <= 10)]\n",
    "\n",
    "home_away_merge = home_away_merge.merge(event_df, on='match_id', how='left')\n",
    "\n",
    "top_wins = home_away_merge[(home_away_merge['winner_code'] == 1) | (\n",
    "    home_away_merge['winner_code'] == 2)]\n",
    "top_wins.drop_duplicates(subset = 'match_id')"
   ]
  },
  {
   "cell_type": "markdown",
   "metadata": {},
   "source": [
    "- **Our analysis**"
   ]
  },
  {
   "cell_type": "markdown",
   "metadata": {},
   "source": [
    "16 players have won against the top 10 players!"
   ]
  },
  {
   "cell_type": "markdown",
   "metadata": {},
   "source": [
    "---\n",
    "### <font color='#D2B4DE'> Q17. What is the average number of breaks of serve per match?</font>"
   ]
  },
  {
   "cell_type": "markdown",
   "metadata": {},
   "source": [
    "- **Load needed data**"
   ]
  },
  {
   "cell_type": "code",
   "execution_count": 52,
   "metadata": {},
   "outputs": [],
   "source": [
    "folder_path = 'data/raw_tennis_power_parquet/'\n",
    "\n",
    "power_df = load_data(folder_path, 'power_*.parquet')"
   ]
  },
  {
   "cell_type": "code",
   "execution_count": 53,
   "metadata": {},
   "outputs": [
    {
     "data": {
      "text/plain": [
       "7.157303370786517"
      ]
     },
     "execution_count": 53,
     "metadata": {},
     "output_type": "execute_result"
    }
   ],
   "source": [
    "break_counts = power_df.groupby('match_id')['break_occurred'].sum().reset_index()\n",
    "\n",
    "avg_breaks = break_counts['break_occurred'].mean()\n",
    "avg_breaks"
   ]
  },
  {
   "cell_type": "markdown",
   "metadata": {},
   "source": [
    "- **Our analysis**"
   ]
  },
  {
   "cell_type": "markdown",
   "metadata": {},
   "source": [
    "On average, about 7 breaks of serve occur in each match!"
   ]
  },
  {
   "cell_type": "markdown",
   "metadata": {},
   "source": [
    "---\n",
    "# <font color='#F39C12'> Additional analyses: </font>"
   ]
  },
  {
   "cell_type": "markdown",
   "metadata": {},
   "source": [
    "---\n",
    "### <font color='#F39C12'> 1. What is the average height of players?  </font>"
   ]
  },
  {
   "cell_type": "markdown",
   "metadata": {},
   "source": [
    "- **Load needed data**"
   ]
  },
  {
   "cell_type": "code",
   "execution_count": 54,
   "metadata": {},
   "outputs": [
    {
     "name": "stderr",
     "output_type": "stream",
     "text": [
      "C:\\Users\\AmirMohammad\\AppData\\Local\\Temp\\ipykernel_5304\\838114465.py:13: FutureWarning: The behavior of DataFrame concatenation with empty or all-NA entries is deprecated. In a future version, this will no longer exclude empty or all-NA columns when determining the result dtypes. To retain the old behavior, exclude the relevant entries before the concat operation.\n",
      "  df = pd.concat([pd.read_parquet(file) for file in files], ignore_index=True)\n",
      "C:\\Users\\AmirMohammad\\AppData\\Local\\Temp\\ipykernel_5304\\838114465.py:13: FutureWarning: The behavior of DataFrame concatenation with empty or all-NA entries is deprecated. In a future version, this will no longer exclude empty or all-NA columns when determining the result dtypes. To retain the old behavior, exclude the relevant entries before the concat operation.\n",
      "  df = pd.concat([pd.read_parquet(file) for file in files], ignore_index=True)\n"
     ]
    }
   ],
   "source": [
    "folder_path = 'data/raw_match_parquet/'\n",
    "\n",
    "match_away_team_df = load_data(folder_path, 'away_team_11*.parquet')\n",
    "match_home_team_df = load_data(folder_path, 'home_team_11*.parquet')"
   ]
  },
  {
   "cell_type": "code",
   "execution_count": 55,
   "metadata": {},
   "outputs": [
    {
     "name": "stdout",
     "output_type": "stream",
     "text": [
      "Average height of players: 1.8293215339233038\n"
     ]
    }
   ],
   "source": [
    "data_1 =pd.concat([match_away_team_df, match_home_team_df]).drop_duplicates('player_id')\n",
    "average_height = data_1['height'].mean()\n",
    "print(\"Average height of players:\", average_height)"
   ]
  },
  {
   "cell_type": "markdown",
   "metadata": {},
   "source": [
    "- **Our analysis**"
   ]
  },
  {
   "cell_type": "markdown",
   "metadata": {},
   "source": [
    "Average height of players is 1.82 which represt that the tennis playres are tall!"
   ]
  },
  {
   "cell_type": "markdown",
   "metadata": {},
   "source": [
    "---\n",
    "### <font color='#F39C12'> 2. How many matches were played in each city?  </font>"
   ]
  },
  {
   "cell_type": "markdown",
   "metadata": {},
   "source": [
    "- **Load needed data**"
   ]
  },
  {
   "cell_type": "code",
   "execution_count": 56,
   "metadata": {},
   "outputs": [],
   "source": [
    "folder_path = 'data/raw_match_parquet/'\n",
    "\n",
    "venue_df = load_data(folder_path, 'venue_*.parquet')"
   ]
  },
  {
   "cell_type": "code",
   "execution_count": 57,
   "metadata": {},
   "outputs": [
    {
     "data": {
      "text/plain": [
       "city\n",
       "Monastir                    79\n",
       "Mendoza                     69\n",
       "Sharm El Sheikh             68\n",
       "Cairns                      57\n",
       "Bad Waltersdorf             49\n",
       "Lisbon                      43\n",
       "Sibenik                     38\n",
       "Pazardzhik                  36\n",
       "Beijing                     36\n",
       "Santa Margherita Di Pula    34\n",
       "Reims                       33\n",
       "Shanghai                    24\n",
       "Zaragoza                    24\n",
       "Saint Eloi                  22\n",
       "Alicante                    21\n",
       "Baza                        18\n",
       "Mouilleron-Le-Captif        18\n",
       "Makinohara                  16\n",
       "Campinas                    15\n",
       "Tiburon                     13\n",
       "Doha                         8\n",
       "Astana                       7\n",
       "Lujan                        6\n",
       "Bogota                       3\n",
       "Templeton                    3\n",
       "Albuquerque                  3\n",
       "Hilton Head                  3\n",
       "Forbach                      3\n",
       "Orleans                      3\n",
       "Charleston                   3\n",
       "Santarem                     1\n",
       "Kursumlijska Banja           1\n",
       "Braga                        1\n",
       "Zlatibor                     1\n",
       "Sabadell                     1\n",
       "Nanao                        1\n",
       "Tokyo                        1\n",
       "N/A                          1\n",
       "Name: count, dtype: int64"
      ]
     },
     "execution_count": 57,
     "metadata": {},
     "output_type": "execute_result"
    }
   ],
   "source": [
    "matches_per_city = venue_df['city'].value_counts()\n",
    "matches_per_city"
   ]
  },
  {
   "cell_type": "markdown",
   "metadata": {},
   "source": [
    "- **Chart**"
   ]
  },
  {
   "cell_type": "code",
   "execution_count": 58,
   "metadata": {},
   "outputs": [
    {
     "data": {
      "image/png": "[encoded data removed]",
      "text/plain": [
       "<Figure size 800x600 with 1 Axes>"
      ]
     },
     "metadata": {},
     "output_type": "display_data"
    }
   ],
   "source": [
    "plt.figure(figsize=(8, 6))\n",
    "\n",
    "matches_per_city = venue_df['city'].value_counts()\n",
    "matches_per_city.plot(kind='barh', color='skyblue')\n",
    "plt.title('Matches',color = 'gray',loc=\"left\",fontdict={\"weight\":\"bold\"})\n",
    "plt.xlabel('Number of Matches',color = 'gray',loc = \"left\",fontdict={\"weight\":\"bold\"})\n",
    "plt.ylabel('City',color = 'gray',loc=\"bottom\",fontdict={\"weight\":\"bold\"})\n",
    "plt.gca().tick_params(axis='y', labelsize=7,color = \"gray\")\n",
    "plt.gca().tick_params(axis='x', labelsize=7,color = \"gray\")\n",
    "plt.gca().spines['top'].set_visible(False)\n",
    "plt.gca().spines['right'].set_visible(False)\n",
    "\n",
    "plt.show()"
   ]
  },
  {
   "cell_type": "markdown",
   "metadata": {},
   "source": [
    "- **Our analysis**"
   ]
  },
  {
   "cell_type": "markdown",
   "metadata": {},
   "source": [
    "Monastir city in Tunisia with 79 and Mendoza in Argentina with 69 matches, have tho most host of competitions!"
   ]
  },
  {
   "cell_type": "markdown",
   "metadata": {},
   "source": [
    "---\n",
    "### <font color='#F39C12'>  3. What are the top 5 players with the highest current rank? </font>"
   ]
  },
  {
   "cell_type": "markdown",
   "metadata": {},
   "source": [
    "- **Load needed data**"
   ]
  },
  {
   "cell_type": "code",
   "execution_count": 59,
   "metadata": {},
   "outputs": [
    {
     "name": "stderr",
     "output_type": "stream",
     "text": [
      "C:\\Users\\AmirMohammad\\AppData\\Local\\Temp\\ipykernel_5304\\838114465.py:13: FutureWarning: The behavior of DataFrame concatenation with empty or all-NA entries is deprecated. In a future version, this will no longer exclude empty or all-NA columns when determining the result dtypes. To retain the old behavior, exclude the relevant entries before the concat operation.\n",
      "  df = pd.concat([pd.read_parquet(file) for file in files], ignore_index=True)\n",
      "C:\\Users\\AmirMohammad\\AppData\\Local\\Temp\\ipykernel_5304\\838114465.py:13: FutureWarning: The behavior of DataFrame concatenation with empty or all-NA entries is deprecated. In a future version, this will no longer exclude empty or all-NA columns when determining the result dtypes. To retain the old behavior, exclude the relevant entries before the concat operation.\n",
      "  df = pd.concat([pd.read_parquet(file) for file in files], ignore_index=True)\n"
     ]
    }
   ],
   "source": [
    "folder_path = 'data/raw_match_parquet/'\n",
    "\n",
    "match_away_team_df = load_data(folder_path, 'away_team_11*.parquet')\n",
    "match_home_team_df = load_data(folder_path, 'home_team_11*.parquet')"
   ]
  },
  {
   "cell_type": "code",
   "execution_count": 60,
   "metadata": {},
   "outputs": [
    {
     "name": "stdout",
     "output_type": "stream",
     "text": [
      "            name current_rank\n",
      "48    Świątek I.            1\n",
      "35  Sabalenka A.            2\n",
      "20    Alcaraz C.            2\n",
      "45      Gauff C.            3\n",
      "18   Medvedev D.            3\n"
     ]
    }
   ],
   "source": [
    "home_away_2= pd.concat([match_away_team_df,match_home_team_df]).drop_duplicates('player_id')\n",
    "top_players = home_away_2[['name', 'current_rank']].sort_values('current_rank').head(5)\n",
    "print(top_players)\n"
   ]
  },
  {
   "cell_type": "markdown",
   "metadata": {},
   "source": [
    "- **Our analysis**"
   ]
  },
  {
   "cell_type": "markdown",
   "metadata": {},
   "source": [
    "Świątek is the best player by ranking!"
   ]
  },
  {
   "cell_type": "markdown",
   "metadata": {},
   "source": [
    "---\n",
    "### <font color='#F39C12'> 4. which player is most bet on? </font>"
   ]
  },
  {
   "cell_type": "markdown",
   "metadata": {},
   "source": [
    "- **Load needed data**"
   ]
  },
  {
   "cell_type": "code",
   "execution_count": 61,
   "metadata": {},
   "outputs": [
    {
     "name": "stderr",
     "output_type": "stream",
     "text": [
      "C:\\Users\\AmirMohammad\\AppData\\Local\\Temp\\ipykernel_5304\\838114465.py:13: FutureWarning: The behavior of DataFrame concatenation with empty or all-NA entries is deprecated. In a future version, this will no longer exclude empty or all-NA columns when determining the result dtypes. To retain the old behavior, exclude the relevant entries before the concat operation.\n",
      "  df = pd.concat([pd.read_parquet(file) for file in files], ignore_index=True)\n",
      "C:\\Users\\AmirMohammad\\AppData\\Local\\Temp\\ipykernel_5304\\838114465.py:13: FutureWarning: The behavior of DataFrame concatenation with empty or all-NA entries is deprecated. In a future version, this will no longer exclude empty or all-NA columns when determining the result dtypes. To retain the old behavior, exclude the relevant entries before the concat operation.\n",
      "  df = pd.concat([pd.read_parquet(file) for file in files], ignore_index=True)\n"
     ]
    }
   ],
   "source": [
    "folder_path = 'data/raw_odds_parquet'\n",
    "\n",
    "odds_df = load_data(folder_path, 'odds_*.parquet')\n",
    "\n",
    "folder_path = 'data/raw_match_parquet'\n",
    "\n",
    "match_away_team_df = load_data(folder_path, 'away_team_11*.parquet')\n",
    "match_home_team_df = load_data(folder_path, 'home_team_11*.parquet')"
   ]
  },
  {
   "cell_type": "code",
   "execution_count": 62,
   "metadata": {},
   "outputs": [
    {
     "name": "stderr",
     "output_type": "stream",
     "text": [
      "C:\\Users\\AmirMohammad\\AppData\\Local\\Temp\\ipykernel_5304\\1360528062.py:4: FutureWarning: A value is trying to be set on a copy of a DataFrame or Series through chained assignment using an inplace method.\n",
      "The behavior will change in pandas 3.0. This inplace method will never work because the intermediate object on which we are setting values always behaves as a copy.\n",
      "\n",
      "For example, when doing 'df[col].method(value, inplace=True)', try using 'df.method({col: value}, inplace=True)' or df[col] = df[col].method(value) instead, to perform the operation inplace on the original object.\n",
      "\n",
      "\n",
      "  odds_teams['winnig'].fillna(0, inplace = True)\n"
     ]
    },
    {
     "data": {
      "text/plain": [
       "name_x    Đaković M.\n",
       "winnig             6\n",
       "dtype: object"
      ]
     },
     "execution_count": 62,
     "metadata": {},
     "output_type": "execute_result"
    }
   ],
   "source": [
    "teams = pd.merge(match_home_team_df, match_away_team_df, on = 'match_id')\n",
    "odds_teams = odds_df.merge(teams, on = 'match_id', how = 'left')\n",
    "\n",
    "odds_teams['winnig'].fillna(0, inplace = True)\n",
    "odds_teams['winnig'].astype(int)\n",
    "odds_teams.groupby('name_x', as_index = False)['winnig'].sum().max()"
   ]
  },
  {
   "cell_type": "code",
   "execution_count": 63,
   "metadata": {},
   "outputs": [
    {
     "data": {
      "text/plain": [
       "name_y    Świątek I.\n",
       "winnig             6\n",
       "dtype: object"
      ]
     },
     "execution_count": 63,
     "metadata": {},
     "output_type": "execute_result"
    }
   ],
   "source": [
    "odds_teams.groupby('name_y', as_index=False)['winnig'].sum().max()"
   ]
  },
  {
   "cell_type": "markdown",
   "metadata": {},
   "source": [
    "- **Our analysis**"
   ]
  },
  {
   "cell_type": "markdown",
   "metadata": {},
   "source": [
    "The most bet on player from home team is been bet on the same amount of time as player from away team which is 6!"
   ]
  },
  {
   "cell_type": "markdown",
   "metadata": {},
   "source": [
    "---\n",
    "### <font color='#F39C12'>5. Comparing average height and weight in female and male components.</font>"
   ]
  },
  {
   "cell_type": "markdown",
   "metadata": {},
   "source": [
    "- **Load needed data**"
   ]
  },
  {
   "cell_type": "code",
   "execution_count": 64,
   "metadata": {},
   "outputs": [
    {
     "data": {
      "text/plain": [
       "gender_x\n",
       "F    1.759394\n",
       "M    1.850458\n",
       "Name: height_x, dtype: float64"
      ]
     },
     "execution_count": 64,
     "metadata": {},
     "output_type": "execute_result"
    }
   ],
   "source": [
    "teams.groupby('gender_x')['height_x'].mean()"
   ]
  },
  {
   "cell_type": "code",
   "execution_count": 65,
   "metadata": {},
   "outputs": [
    {
     "data": {
      "text/plain": [
       "gender_x\n",
       "F    64.769231\n",
       "M    77.578313\n",
       "Name: weight_x, dtype: object"
      ]
     },
     "execution_count": 65,
     "metadata": {},
     "output_type": "execute_result"
    }
   ],
   "source": [
    "teams.groupby('gender_x')['weight_x'].mean()"
   ]
  },
  {
   "cell_type": "markdown",
   "metadata": {},
   "source": [
    "- **Our analysis**"
   ]
  },
  {
   "cell_type": "markdown",
   "metadata": {},
   "source": [
    "Male tennis players are on average 10 cm taller than female tennis players. Also, they weigh 13 kg more than women."
   ]
  },
  {
   "cell_type": "markdown",
   "metadata": {},
   "source": [
    "---\n",
    "### <font color='#F39C12'> 6. Which tournament has the most participants?</font>"
   ]
  },
  {
   "cell_type": "markdown",
   "metadata": {},
   "source": [
    "- **Load needed data**"
   ]
  },
  {
   "cell_type": "code",
   "execution_count": 66,
   "metadata": {},
   "outputs": [
    {
     "name": "stderr",
     "output_type": "stream",
     "text": [
      "C:\\Users\\AmirMohammad\\AppData\\Local\\Temp\\ipykernel_5304\\838114465.py:13: FutureWarning: The behavior of DataFrame concatenation with empty or all-NA entries is deprecated. In a future version, this will no longer exclude empty or all-NA columns when determining the result dtypes. To retain the old behavior, exclude the relevant entries before the concat operation.\n",
      "  df = pd.concat([pd.read_parquet(file) for file in files], ignore_index=True)\n",
      "C:\\Users\\AmirMohammad\\AppData\\Local\\Temp\\ipykernel_5304\\838114465.py:13: FutureWarning: The behavior of DataFrame concatenation with empty or all-NA entries is deprecated. In a future version, this will no longer exclude empty or all-NA columns when determining the result dtypes. To retain the old behavior, exclude the relevant entries before the concat operation.\n",
      "  df = pd.concat([pd.read_parquet(file) for file in files], ignore_index=True)\n"
     ]
    }
   ],
   "source": [
    "folder_path = 'data/raw_match_parquet/'\n",
    "\n",
    "match_away_team_df = load_data(folder_path, 'away_team_11*.parquet')\n",
    "match_home_team_df = load_data(folder_path, 'home_team_11*.parquet')\n",
    "\n",
    "folder_path = 'data/raw_match_parquet/'\n",
    "\n",
    "tournament_df = load_data(folder_path, 'tournament_*.parquet')"
   ]
  },
  {
   "cell_type": "code",
   "execution_count": 67,
   "metadata": {},
   "outputs": [
    {
     "name": "stdout",
     "output_type": "stream",
     "text": [
      "Tournament Shanghai, China, Qualifying with 48 tennis players, has the most participants.\n"
     ]
    }
   ],
   "source": [
    "home_away_players = pd.concat([match_away_team_df,match_home_team_df]).drop_duplicates('player_id')\n",
    "merge_tour_players = home_away_players.merge(tournament_df, on='match_id')\n",
    "\n",
    "players_per_tournament = merge_tour_players.groupby('tournament_id')['player_id'].nunique()\n",
    "tournament_most_players_id = players_per_tournament.idxmax()\n",
    "tournament_most_players_numbers = players_per_tournament.max()\n",
    "tournament_name_most_players = tournament_df.loc[tournament_df['tournament_id'] == tournament_most_players_id, 'tournament_name'].iloc[0]\n",
    "\n",
    "print(f'Tournament {tournament_name_most_players} with {tournament_most_players_numbers} tennis players, has the most participants.')"
   ]
  },
  {
   "cell_type": "markdown",
   "metadata": {},
   "source": [
    "- **Our analysis**"
   ]
  },
  {
   "cell_type": "markdown",
   "metadata": {},
   "source": [
    "Tournament Shanghai in China, with 48 tennis players, has the most participants!\n"
   ]
  },
  {
   "cell_type": "markdown",
   "metadata": {},
   "source": [
    "---\n",
    "### <font color='#F39C12'> 7. What type of ground is each tournament held on? </font>"
   ]
  },
  {
   "cell_type": "markdown",
   "metadata": {},
   "source": [
    "- **Load needed data**"
   ]
  },
  {
   "cell_type": "code",
   "execution_count": 68,
   "metadata": {},
   "outputs": [],
   "source": [
    "folder_path = 'data/raw_match_parquet/'\n",
    "\n",
    "tournament_df = load_data(folder_path, 'tournament_*.parquet')"
   ]
  },
  {
   "cell_type": "code",
   "execution_count": 69,
   "metadata": {},
   "outputs": [
    {
     "data": {
      "text/html": [
       "<div>\n",
       "<style scoped>\n",
       "    .dataframe tbody tr th:only-of-type {\n",
       "        vertical-align: middle;\n",
       "    }\n",
       "\n",
       "    .dataframe tbody tr th {\n",
       "        vertical-align: top;\n",
       "    }\n",
       "\n",
       "    .dataframe thead th {\n",
       "        text-align: right;\n",
       "    }\n",
       "</style>\n",
       "<table border=\"1\" class=\"dataframe\">\n",
       "  <thead>\n",
       "    <tr style=\"text-align: right;\">\n",
       "      <th></th>\n",
       "      <th>tournament_name</th>\n",
       "      <th>ground_type</th>\n",
       "      <th>count</th>\n",
       "    </tr>\n",
       "  </thead>\n",
       "  <tbody>\n",
       "    <tr>\n",
       "      <th>0</th>\n",
       "      <td>Albuquerque, NM, Singles Main, M-ITF-USA-35A</td>\n",
       "      <td>Hardcourt outdoor</td>\n",
       "      <td>4</td>\n",
       "    </tr>\n",
       "    <tr>\n",
       "      <th>1</th>\n",
       "      <td>Alicante, Spain</td>\n",
       "      <td>Hardcourt outdoor</td>\n",
       "      <td>2</td>\n",
       "    </tr>\n",
       "    <tr>\n",
       "      <th>2</th>\n",
       "      <td>Alicante, Spain, Qualifying</td>\n",
       "      <td>Hardcourt outdoor</td>\n",
       "      <td>19</td>\n",
       "    </tr>\n",
       "    <tr>\n",
       "      <th>3</th>\n",
       "      <td>Astana, Kazakhstan</td>\n",
       "      <td>Hardcourt indoor</td>\n",
       "      <td>7</td>\n",
       "    </tr>\n",
       "    <tr>\n",
       "      <th>4</th>\n",
       "      <td>Bad Waltersdorf, Singles Qualifying, M-ITF-AUT...</td>\n",
       "      <td>Red clay</td>\n",
       "      <td>24</td>\n",
       "    </tr>\n",
       "    <tr>\n",
       "      <th>5</th>\n",
       "      <td>Bad Waltersdorf, Singles Qualifying, W-ITF-AUT...</td>\n",
       "      <td>Red clay</td>\n",
       "      <td>25</td>\n",
       "    </tr>\n",
       "    <tr>\n",
       "      <th>6</th>\n",
       "      <td>Baza, Singles Qualifying, W-ITF-ESP-35A</td>\n",
       "      <td>Hardcourt outdoor</td>\n",
       "      <td>18</td>\n",
       "    </tr>\n",
       "    <tr>\n",
       "      <th>7</th>\n",
       "      <td>Beijing, China</td>\n",
       "      <td>Hardcourt outdoor</td>\n",
       "      <td>36</td>\n",
       "    </tr>\n",
       "    <tr>\n",
       "      <th>8</th>\n",
       "      <td>Bogota, Colombia</td>\n",
       "      <td>Red clay</td>\n",
       "      <td>3</td>\n",
       "    </tr>\n",
       "    <tr>\n",
       "      <th>9</th>\n",
       "      <td>Braga, Portugal</td>\n",
       "      <td>Red clay</td>\n",
       "      <td>1</td>\n",
       "    </tr>\n",
       "    <tr>\n",
       "      <th>10</th>\n",
       "      <td>Campinas, Brazil, Qualifying</td>\n",
       "      <td>Red clay</td>\n",
       "      <td>15</td>\n",
       "    </tr>\n",
       "    <tr>\n",
       "      <th>11</th>\n",
       "      <td>Charleston, USA</td>\n",
       "      <td>Hardcourt outdoor</td>\n",
       "      <td>3</td>\n",
       "    </tr>\n",
       "    <tr>\n",
       "      <th>12</th>\n",
       "      <td>Doha, Singles Qualifying, M-ITF-QAT-03A</td>\n",
       "      <td>Hardcourt outdoor</td>\n",
       "      <td>8</td>\n",
       "    </tr>\n",
       "    <tr>\n",
       "      <th>13</th>\n",
       "      <td>Forbach, Singles Main, M-ITF-FRA-19A</td>\n",
       "      <td>Carpet indoor</td>\n",
       "      <td>3</td>\n",
       "    </tr>\n",
       "    <tr>\n",
       "      <th>14</th>\n",
       "      <td>Hilton Head, SC, Singles Main, W-ITF-USA-43A</td>\n",
       "      <td>Red clay</td>\n",
       "      <td>3</td>\n",
       "    </tr>\n",
       "    <tr>\n",
       "      <th>15</th>\n",
       "      <td>Kursumlijska Banja, Singles Main, W-ITF-SRB-17A</td>\n",
       "      <td>Red clay</td>\n",
       "      <td>1</td>\n",
       "    </tr>\n",
       "    <tr>\n",
       "      <th>16</th>\n",
       "      <td>Lisbon, Portugal</td>\n",
       "      <td>Red clay</td>\n",
       "      <td>1</td>\n",
       "    </tr>\n",
       "    <tr>\n",
       "      <th>17</th>\n",
       "      <td>Lisbon, Portugal, Qualifying</td>\n",
       "      <td>Red clay</td>\n",
       "      <td>18</td>\n",
       "    </tr>\n",
       "    <tr>\n",
       "      <th>18</th>\n",
       "      <td>Lisbon, Singles Qualifying, W-ITF-POR-13A</td>\n",
       "      <td>Red clay</td>\n",
       "      <td>24</td>\n",
       "    </tr>\n",
       "    <tr>\n",
       "      <th>19</th>\n",
       "      <td>Lujan, Singles Main, M-ITF-ARG-07A</td>\n",
       "      <td>Red clay</td>\n",
       "      <td>3</td>\n",
       "    </tr>\n",
       "    <tr>\n",
       "      <th>20</th>\n",
       "      <td>Lujan, Singles Main, W-ITF-ARG-09A</td>\n",
       "      <td>Red clay</td>\n",
       "      <td>3</td>\n",
       "    </tr>\n",
       "    <tr>\n",
       "      <th>21</th>\n",
       "      <td>Mendoza, Singles Qualifying, M-ITF-ARG-08A</td>\n",
       "      <td>Red clay</td>\n",
       "      <td>50</td>\n",
       "    </tr>\n",
       "    <tr>\n",
       "      <th>22</th>\n",
       "      <td>Mendoza, Singles Qualifying, W-ITF-ARG-10A</td>\n",
       "      <td>Red clay</td>\n",
       "      <td>19</td>\n",
       "    </tr>\n",
       "    <tr>\n",
       "      <th>23</th>\n",
       "      <td>Monastir, Singles Main, M-ITF-TUN-43A</td>\n",
       "      <td>Hardcourt outdoor</td>\n",
       "      <td>1</td>\n",
       "    </tr>\n",
       "    <tr>\n",
       "      <th>24</th>\n",
       "      <td>Monastir, Singles Main, W-ITF-TUN-41A</td>\n",
       "      <td>Hardcourt outdoor</td>\n",
       "      <td>1</td>\n",
       "    </tr>\n",
       "    <tr>\n",
       "      <th>25</th>\n",
       "      <td>Monastir, Singles Qualifying, M-ITF-TUN-46A</td>\n",
       "      <td>Hardcourt outdoor</td>\n",
       "      <td>48</td>\n",
       "    </tr>\n",
       "    <tr>\n",
       "      <th>26</th>\n",
       "      <td>Monastir, Singles Qualifying, W-ITF-TUN-42A</td>\n",
       "      <td>Hardcourt outdoor</td>\n",
       "      <td>29</td>\n",
       "    </tr>\n",
       "    <tr>\n",
       "      <th>27</th>\n",
       "      <td>Mouilleron-Le-Captif, France, Qualifying</td>\n",
       "      <td>Hardcourt indoor</td>\n",
       "      <td>18</td>\n",
       "    </tr>\n",
       "    <tr>\n",
       "      <th>28</th>\n",
       "      <td>Nevers, Singles Qualifying, M-ITF-FRA-18A</td>\n",
       "      <td>Hardcourt indoor</td>\n",
       "      <td>22</td>\n",
       "    </tr>\n",
       "    <tr>\n",
       "      <th>29</th>\n",
       "      <td>North Cairns, Singles Qualifying, M-ITF-AUS-10A</td>\n",
       "      <td>Hardcourt outdoor</td>\n",
       "      <td>32</td>\n",
       "    </tr>\n",
       "    <tr>\n",
       "      <th>30</th>\n",
       "      <td>North Cairns, Singles Qualifying, W-ITF-AUS-12A</td>\n",
       "      <td>Hardcourt outdoor</td>\n",
       "      <td>25</td>\n",
       "    </tr>\n",
       "    <tr>\n",
       "      <th>31</th>\n",
       "      <td>Orleans, France</td>\n",
       "      <td>Hardcourt indoor</td>\n",
       "      <td>3</td>\n",
       "    </tr>\n",
       "    <tr>\n",
       "      <th>32</th>\n",
       "      <td>Osijek, Singles Qualifying, W-ITF-CRO-01B</td>\n",
       "      <td>Red clay</td>\n",
       "      <td>38</td>\n",
       "    </tr>\n",
       "    <tr>\n",
       "      <th>33</th>\n",
       "      <td>Pazardzhik, Singles Main, M-ITF-BUL-01B</td>\n",
       "      <td>Red clay</td>\n",
       "      <td>1</td>\n",
       "    </tr>\n",
       "    <tr>\n",
       "      <th>34</th>\n",
       "      <td>Pazardzhik, Singles Qualifying, M-ITF-BUL-05A</td>\n",
       "      <td>Red clay</td>\n",
       "      <td>35</td>\n",
       "    </tr>\n",
       "    <tr>\n",
       "      <th>35</th>\n",
       "      <td>Reims, Singles Qualifying, W-ITF-FRA-20A</td>\n",
       "      <td>Hardcourt indoor</td>\n",
       "      <td>33</td>\n",
       "    </tr>\n",
       "    <tr>\n",
       "      <th>36</th>\n",
       "      <td>Rome, Singles Qualifying, W-ITF-USA-53A</td>\n",
       "      <td>Hardcourt indoor</td>\n",
       "      <td>1</td>\n",
       "    </tr>\n",
       "    <tr>\n",
       "      <th>37</th>\n",
       "      <td>S. Margherita Di Pula, Singles Main, W-ITF-ITA...</td>\n",
       "      <td>Synthetic outdoor</td>\n",
       "      <td>1</td>\n",
       "    </tr>\n",
       "    <tr>\n",
       "      <th>38</th>\n",
       "      <td>S. Margherita Di Pula, Singles Q, M-ITF-ITA-27A</td>\n",
       "      <td>Red clay</td>\n",
       "      <td>24</td>\n",
       "    </tr>\n",
       "    <tr>\n",
       "      <th>39</th>\n",
       "      <td>S. Margherita Di Pula, Singles Qual, W-ITF-ITA...</td>\n",
       "      <td>Red clay</td>\n",
       "      <td>5</td>\n",
       "    </tr>\n",
       "    <tr>\n",
       "      <th>40</th>\n",
       "      <td>S. Margherita Di Pula, Singles, M-ITF-ITA-27A</td>\n",
       "      <td>Red clay</td>\n",
       "      <td>4</td>\n",
       "    </tr>\n",
       "    <tr>\n",
       "      <th>41</th>\n",
       "      <td>Sabadell, Singles Main, M-ITF-ESP-30A</td>\n",
       "      <td>Red clay</td>\n",
       "      <td>1</td>\n",
       "    </tr>\n",
       "    <tr>\n",
       "      <th>42</th>\n",
       "      <td>Santarem, Singles Main, W-ITF-POR-15A</td>\n",
       "      <td>Hardcourt outdoor</td>\n",
       "      <td>1</td>\n",
       "    </tr>\n",
       "    <tr>\n",
       "      <th>43</th>\n",
       "      <td>Shanghai, China, Qualifying</td>\n",
       "      <td>Hardcourt outdoor</td>\n",
       "      <td>24</td>\n",
       "    </tr>\n",
       "    <tr>\n",
       "      <th>44</th>\n",
       "      <td>Sharm ElSheikh, Singles Main, M-ITF-EGY-15A</td>\n",
       "      <td>Hardcourt outdoor</td>\n",
       "      <td>1</td>\n",
       "    </tr>\n",
       "    <tr>\n",
       "      <th>45</th>\n",
       "      <td>Sharm ElSheikh, Singles Main, W-ITF-EGY-14A</td>\n",
       "      <td>Hardcourt outdoor</td>\n",
       "      <td>1</td>\n",
       "    </tr>\n",
       "    <tr>\n",
       "      <th>46</th>\n",
       "      <td>Sharm ElSheikh, Singles Qualifying, M-ITF-EGY-16A</td>\n",
       "      <td>Hardcourt outdoor</td>\n",
       "      <td>49</td>\n",
       "    </tr>\n",
       "    <tr>\n",
       "      <th>47</th>\n",
       "      <td>Sharm ElSheikh, Singles Qualifying, W-ITF-EGY-15A</td>\n",
       "      <td>Hardcourt outdoor</td>\n",
       "      <td>17</td>\n",
       "    </tr>\n",
       "    <tr>\n",
       "      <th>48</th>\n",
       "      <td>Templeton, CA, Singles Main, W-ITF-USA-42A</td>\n",
       "      <td>Hardcourt outdoor</td>\n",
       "      <td>3</td>\n",
       "    </tr>\n",
       "    <tr>\n",
       "      <th>49</th>\n",
       "      <td>Tiburon, USA, Qualifying</td>\n",
       "      <td>Hardcourt outdoor</td>\n",
       "      <td>13</td>\n",
       "    </tr>\n",
       "    <tr>\n",
       "      <th>50</th>\n",
       "      <td>Tokyo, Japan</td>\n",
       "      <td>Hardcourt outdoor</td>\n",
       "      <td>1</td>\n",
       "    </tr>\n",
       "    <tr>\n",
       "      <th>51</th>\n",
       "      <td>Zaragoza, Singles Qualifying, M-ITF-ESP-35A</td>\n",
       "      <td>Red clay</td>\n",
       "      <td>24</td>\n",
       "    </tr>\n",
       "    <tr>\n",
       "      <th>52</th>\n",
       "      <td>Zlatibor, Singles Main, M-ITF-SRB-19A</td>\n",
       "      <td>Red clay</td>\n",
       "      <td>1</td>\n",
       "    </tr>\n",
       "  </tbody>\n",
       "</table>\n",
       "</div>"
      ],
      "text/plain": [
       "                                      tournament_name        ground_type  \\\n",
       "0        Albuquerque, NM, Singles Main, M-ITF-USA-35A  Hardcourt outdoor   \n",
       "1                                     Alicante, Spain  Hardcourt outdoor   \n",
       "2                         Alicante, Spain, Qualifying  Hardcourt outdoor   \n",
       "3                                  Astana, Kazakhstan   Hardcourt indoor   \n",
       "4   Bad Waltersdorf, Singles Qualifying, M-ITF-AUT...           Red clay   \n",
       "5   Bad Waltersdorf, Singles Qualifying, W-ITF-AUT...           Red clay   \n",
       "6             Baza, Singles Qualifying, W-ITF-ESP-35A  Hardcourt outdoor   \n",
       "7                                      Beijing, China  Hardcourt outdoor   \n",
       "8                                    Bogota, Colombia           Red clay   \n",
       "9                                     Braga, Portugal           Red clay   \n",
       "10                       Campinas, Brazil, Qualifying           Red clay   \n",
       "11                                    Charleston, USA  Hardcourt outdoor   \n",
       "12            Doha, Singles Qualifying, M-ITF-QAT-03A  Hardcourt outdoor   \n",
       "13               Forbach, Singles Main, M-ITF-FRA-19A      Carpet indoor   \n",
       "14       Hilton Head, SC, Singles Main, W-ITF-USA-43A           Red clay   \n",
       "15    Kursumlijska Banja, Singles Main, W-ITF-SRB-17A           Red clay   \n",
       "16                                   Lisbon, Portugal           Red clay   \n",
       "17                       Lisbon, Portugal, Qualifying           Red clay   \n",
       "18          Lisbon, Singles Qualifying, W-ITF-POR-13A           Red clay   \n",
       "19                 Lujan, Singles Main, M-ITF-ARG-07A           Red clay   \n",
       "20                 Lujan, Singles Main, W-ITF-ARG-09A           Red clay   \n",
       "21         Mendoza, Singles Qualifying, M-ITF-ARG-08A           Red clay   \n",
       "22         Mendoza, Singles Qualifying, W-ITF-ARG-10A           Red clay   \n",
       "23              Monastir, Singles Main, M-ITF-TUN-43A  Hardcourt outdoor   \n",
       "24              Monastir, Singles Main, W-ITF-TUN-41A  Hardcourt outdoor   \n",
       "25        Monastir, Singles Qualifying, M-ITF-TUN-46A  Hardcourt outdoor   \n",
       "26        Monastir, Singles Qualifying, W-ITF-TUN-42A  Hardcourt outdoor   \n",
       "27           Mouilleron-Le-Captif, France, Qualifying   Hardcourt indoor   \n",
       "28          Nevers, Singles Qualifying, M-ITF-FRA-18A   Hardcourt indoor   \n",
       "29    North Cairns, Singles Qualifying, M-ITF-AUS-10A  Hardcourt outdoor   \n",
       "30    North Cairns, Singles Qualifying, W-ITF-AUS-12A  Hardcourt outdoor   \n",
       "31                                    Orleans, France   Hardcourt indoor   \n",
       "32          Osijek, Singles Qualifying, W-ITF-CRO-01B           Red clay   \n",
       "33            Pazardzhik, Singles Main, M-ITF-BUL-01B           Red clay   \n",
       "34      Pazardzhik, Singles Qualifying, M-ITF-BUL-05A           Red clay   \n",
       "35           Reims, Singles Qualifying, W-ITF-FRA-20A   Hardcourt indoor   \n",
       "36            Rome, Singles Qualifying, W-ITF-USA-53A   Hardcourt indoor   \n",
       "37  S. Margherita Di Pula, Singles Main, W-ITF-ITA...  Synthetic outdoor   \n",
       "38    S. Margherita Di Pula, Singles Q, M-ITF-ITA-27A           Red clay   \n",
       "39  S. Margherita Di Pula, Singles Qual, W-ITF-ITA...           Red clay   \n",
       "40      S. Margherita Di Pula, Singles, M-ITF-ITA-27A           Red clay   \n",
       "41              Sabadell, Singles Main, M-ITF-ESP-30A           Red clay   \n",
       "42              Santarem, Singles Main, W-ITF-POR-15A  Hardcourt outdoor   \n",
       "43                        Shanghai, China, Qualifying  Hardcourt outdoor   \n",
       "44        Sharm ElSheikh, Singles Main, M-ITF-EGY-15A  Hardcourt outdoor   \n",
       "45        Sharm ElSheikh, Singles Main, W-ITF-EGY-14A  Hardcourt outdoor   \n",
       "46  Sharm ElSheikh, Singles Qualifying, M-ITF-EGY-16A  Hardcourt outdoor   \n",
       "47  Sharm ElSheikh, Singles Qualifying, W-ITF-EGY-15A  Hardcourt outdoor   \n",
       "48         Templeton, CA, Singles Main, W-ITF-USA-42A  Hardcourt outdoor   \n",
       "49                           Tiburon, USA, Qualifying  Hardcourt outdoor   \n",
       "50                                       Tokyo, Japan  Hardcourt outdoor   \n",
       "51        Zaragoza, Singles Qualifying, M-ITF-ESP-35A           Red clay   \n",
       "52              Zlatibor, Singles Main, M-ITF-SRB-19A           Red clay   \n",
       "\n",
       "    count  \n",
       "0       4  \n",
       "1       2  \n",
       "2      19  \n",
       "3       7  \n",
       "4      24  \n",
       "5      25  \n",
       "6      18  \n",
       "7      36  \n",
       "8       3  \n",
       "9       1  \n",
       "10     15  \n",
       "11      3  \n",
       "12      8  \n",
       "13      3  \n",
       "14      3  \n",
       "15      1  \n",
       "16      1  \n",
       "17     18  \n",
       "18     24  \n",
       "19      3  \n",
       "20      3  \n",
       "21     50  \n",
       "22     19  \n",
       "23      1  \n",
       "24      1  \n",
       "25     48  \n",
       "26     29  \n",
       "27     18  \n",
       "28     22  \n",
       "29     32  \n",
       "30     25  \n",
       "31      3  \n",
       "32     38  \n",
       "33      1  \n",
       "34     35  \n",
       "35     33  \n",
       "36      1  \n",
       "37      1  \n",
       "38     24  \n",
       "39      5  \n",
       "40      4  \n",
       "41      1  \n",
       "42      1  \n",
       "43     24  \n",
       "44      1  \n",
       "45      1  \n",
       "46     49  \n",
       "47     17  \n",
       "48      3  \n",
       "49     13  \n",
       "50      1  \n",
       "51     24  \n",
       "52      1  "
      ]
     },
     "execution_count": 69,
     "metadata": {},
     "output_type": "execute_result"
    }
   ],
   "source": [
    "ground_type_per_tournament = tournament_df.groupby(['tournament_name', 'ground_type']).size().reset_index(name='count')\n",
    "ground_type_per_tournament"
   ]
  },
  {
   "cell_type": "markdown",
   "metadata": {},
   "source": [
    "- **Our analysis**"
   ]
  },
  {
   "cell_type": "markdown",
   "metadata": {},
   "source": [
    "The interesting point of this analysis was that it was determined that the number of tournaments held on Red clay and Hardcourt outdoor is equal (both 23 tournaments), but the number of matches held on them is different (336 vs 323 based on past analysis), which shows that the toutnaments held on Hardcourt outdoor takes more time to finish tournament due to holding more matches!"
   ]
  },
  {
   "cell_type": "markdown",
   "metadata": {},
   "source": [
    "---\n",
    "# <font color='#21618C'> Thanks for everythigs! </font>\n",
    "## <font color='#21618C'> Analyzed with </font> <font color='red'> love! </font>\n",
    "### <font color='#21618C'> Members of Group One! </font>"
   ]
  }
 ],
 "metadata": {
  "kernelspec": {
   "display_name": ".venv",
   "language": "python",
   "name": "python3"
  },
  "language_info": {
   "codemirror_mode": {
    "name": "ipython",
    "version": 3
   },
   "file_extension": ".py",
   "mimetype": "text/x-python",
   "name": "python",
   "nbconvert_exporter": "python",
   "pygments_lexer": "ipython3",
   "version": "3.12.0"
  }
 },
 "nbformat": 4,
 "nbformat_minor": 2
}
